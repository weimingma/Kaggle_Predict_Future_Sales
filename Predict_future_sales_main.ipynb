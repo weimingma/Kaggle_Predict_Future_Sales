{
 "cells": [
  {
   "cell_type": "markdown",
   "metadata": {},
   "source": [
    "Training data: 0-32\n",
    "Cross Validation data: 33\n",
    "Test data: 34"
   ]
  },
  {
   "cell_type": "code",
   "execution_count": 1,
   "metadata": {
    "id": "GnLtj-F232eK"
   },
   "outputs": [],
   "source": [
    "import numpy as np\n",
    "import pandas as pd\n",
    "from datetime import datetime\n",
    "import matplotlib\n",
    "import matplotlib.pyplot as plt\n",
    "import seaborn as sns\n",
    "import os\n",
    "import holidays\n",
    "#from google.colab import files, drive\n",
    "from itertools import product\n",
    "from sklearn.preprocessing import LabelEncoder\n",
    "\n",
    "import xgboost as xgb"
   ]
  },
  {
   "cell_type": "code",
   "execution_count": 2,
   "metadata": {
    "colab": {
     "base_uri": "https://localhost:8080/"
    },
    "id": "Jp4rCv2DTtlw",
    "outputId": "9cb1e394-9066-4df9-f7a4-cd5ff91669cb"
   },
   "outputs": [
    {
     "name": "stdout",
     "output_type": "stream",
     "text": [
      "Numpy: 1.19.2\n",
      "Pandas: 1.1.3\n",
      "Matplotlib: 3.3.2\n",
      "Seaborn: 0.11.0\n"
     ]
    }
   ],
   "source": [
    "print(f'Numpy: {np.__version__}')\n",
    "print(f'Pandas: {pd.__version__}')\n",
    "print(f'Matplotlib: {matplotlib.__version__}')\n",
    "print(f'Seaborn: {sns.__version__}')"
   ]
  },
  {
   "cell_type": "code",
   "execution_count": 3,
   "metadata": {},
   "outputs": [],
   "source": [
    "# Create new columns with specified time shifts by n months\n",
    "def feature_lags( df,lags, cols ):\n",
    "    for col in cols:\n",
    "        #print(col)\n",
    "        tmp = df[[\"date_block_num\", \"shop_id\",\"item_id\",col ]]\n",
    "        for i in lags:\n",
    "            shifted = tmp.copy()\n",
    "            \n",
    "            shifted.columns = [\"date_block_num\", \"shop_id\", \"item_id\", col + \"_lag_\"+str(i)]\n",
    "            shifted.date_block_num = shifted.date_block_num + i\n",
    "            print('shifted:')\n",
    "            print(shifted.columns)\n",
    "            print(shifted.shape)\n",
    "            \n",
    "            #print('df:')\n",
    "            #print(df.columns)\n",
    "            #print(df.shape)\n",
    "            df = pd.merge(df, shifted, on=['date_block_num','shop_id','item_id'], how='left')\n",
    "    return df"
   ]
  },
  {
   "cell_type": "code",
   "execution_count": 4,
   "metadata": {
    "colab": {
     "base_uri": "https://localhost:8080/"
    },
    "id": "EmUIWTue32eT",
    "outputId": "9fd47f8b-63ef-4ac2-879e-09d8cc65e875"
   },
   "outputs": [],
   "source": [
    "#drive.mount('/content/drive')"
   ]
  },
  {
   "cell_type": "code",
   "execution_count": 5,
   "metadata": {
    "colab": {
     "base_uri": "https://localhost:8080/"
    },
    "id": "3FBvmww432eU",
    "outputId": "a099d78b-d25a-4cc6-bb67-ea8eab2ccbb3"
   },
   "outputs": [],
   "source": [
    "#%cd '/content/drive/My Drive/kaggle/Predict_future_sales'"
   ]
  },
  {
   "cell_type": "code",
   "execution_count": 6,
   "metadata": {
    "id": "bL0K3tw032eU"
   },
   "outputs": [],
   "source": [
    "#copied_path = '/content/drive/My Drive/kaggle/Predict_future_sales/sales_train.csv' \n",
    "#sales = pd.read_csv(copied_path)\n",
    "#copied_path = '/content/drive/My Drive/kaggle/Predict_future_sales/items.csv'\n",
    "#items = pd.read_csv(copied_path)\n",
    "#copied_path = '/content/drive/My Drive/kaggle/Predict_future_sales/test.csv'\n",
    "#test = pd.read_csv(copied_path)\n",
    "#copied_path = '/content/drive/My Drive/kaggle/Predict_future_sales/item_categories.csv'\n",
    "#item_category = pd.read_csv(copied_path)\n",
    "#copied_path = '/content/drive/My Drive/kaggle/Predict_future_sales/shops.csv'\n",
    "#shop = pd.read_csv(copied_path)"
   ]
  },
  {
   "cell_type": "code",
   "execution_count": 7,
   "metadata": {},
   "outputs": [],
   "source": [
    "sales = pd.read_csv(r'D:\\ML\\kaggle\\Predict future sales\\sales_train.csv')\n",
    "items = pd.read_csv(r'D:\\ML\\kaggle\\Predict future sales\\items.csv')\n",
    "test = pd.read_csv(r'D:\\ML\\kaggle\\Predict future sales\\test.csv')\n",
    "item_categories = pd.read_csv(r'D:\\ML\\kaggle\\Predict future sales\\item_categories.csv')\n",
    "shops = pd.read_csv(r'D:\\ML\\kaggle\\Predict future sales\\shops.csv')"
   ]
  },
  {
   "cell_type": "code",
   "execution_count": 8,
   "metadata": {
    "colab": {
     "base_uri": "https://localhost:8080/"
    },
    "id": "VlVDqFKB32eV",
    "outputId": "b594f5c9-606d-49e9-ab5b-de3b487bbd41"
   },
   "outputs": [
    {
     "name": "stdout",
     "output_type": "stream",
     "text": [
      "(2935849, 6)\n",
      "date               object\n",
      "date_block_num      int64\n",
      "shop_id             int64\n",
      "item_id             int64\n",
      "item_price        float64\n",
      "item_cnt_day      float64\n",
      "dtype: object\n",
      "         date  date_block_num  shop_id  item_id  item_price  item_cnt_day\n",
      "0  02.01.2013               0       59    22154      999.00           1.0\n",
      "1  03.01.2013               0       25     2552      899.00           1.0\n",
      "2  05.01.2013               0       25     2552      899.00          -1.0\n",
      "3  06.01.2013               0       25     2554     1709.05           1.0\n",
      "4  15.01.2013               0       25     2555     1099.00           1.0\n"
     ]
    }
   ],
   "source": [
    "print(sales.shape)\n",
    "print(sales.dtypes)\n",
    "print(sales.head())"
   ]
  },
  {
   "cell_type": "code",
   "execution_count": 9,
   "metadata": {
    "scrolled": true
   },
   "outputs": [
    {
     "name": "stdout",
     "output_type": "stream",
     "text": [
      "              date  date_block_num  shop_id  item_id  item_price  item_cnt_day\n",
      "2568    27.01.2013               0       24       32       349.0           1.0\n",
      "2580    13.01.2013               0       24       32       349.0           1.0\n",
      "3230    10.01.2013               0       25       32       349.0           1.0\n",
      "3231    11.01.2013               0       25       32       349.0           2.0\n",
      "3232    12.01.2013               0       25       32       349.0           3.0\n",
      "...            ...             ...      ...      ...         ...           ...\n",
      "115683  21.01.2013               0       46       32       349.0           1.0\n",
      "115684  11.01.2013               0       46       32       349.0           1.0\n",
      "115685  19.01.2013               0       46       32       349.0           1.0\n",
      "115686  18.01.2013               0       46       32       349.0           1.0\n",
      "115689  07.01.2013               0       46       32       349.0           1.0\n",
      "\n",
      "[225 rows x 6 columns]\n"
     ]
    }
   ],
   "source": [
    "# TEST CODE\n",
    "#date_item_avg_ check OK: a = sales.loc[(sales['date_block_num'] == 1) & (sales['item_id'] == 32), :]\n",
    "# item_avg check OK:\n",
    "a = sales.loc[(sales['date_block_num'] == 0) & (sales['item_id'] == 32), :]\n",
    "#a = sales.loc[sales['item_id'] == 1480, :]\n",
    "print(a)\n",
    "#print('item_cnt_day=', a['item_cnt_day'].sum())\n",
    "#print('item_price= ', a['item_price'].mean())"
   ]
  },
  {
   "cell_type": "code",
   "execution_count": 10,
   "metadata": {
    "colab": {
     "base_uri": "https://localhost:8080/"
    },
    "id": "Lgv4Rta9Z82F",
    "outputId": "05649f03-69c2-47f7-c0a4-20060aa1a8c7",
    "scrolled": true
   },
   "outputs": [
    {
     "data": {
      "text/plain": [
       "date               1034\n",
       "date_block_num       34\n",
       "shop_id              60\n",
       "item_id           21807\n",
       "item_price        19993\n",
       "item_cnt_day        198\n",
       "dtype: int64"
      ]
     },
     "execution_count": 10,
     "metadata": {},
     "output_type": "execute_result"
    }
   ],
   "source": [
    "sales.nunique()"
   ]
  },
  {
   "cell_type": "code",
   "execution_count": 11,
   "metadata": {
    "colab": {
     "base_uri": "https://localhost:8080/"
    },
    "id": "HbHCjx_-W9vs",
    "outputId": "4d1b6842-8ea9-4f34-a43a-6f8d701b0c2b"
   },
   "outputs": [
    {
     "name": "stdout",
     "output_type": "stream",
     "text": [
      "date                0\n",
      "date_block_num      0\n",
      "shop_id             0\n",
      "item_id             0\n",
      "item_price          0\n",
      "item_cnt_day        0\n",
      "item_name           0\n",
      "item_category_id    0\n",
      "dtype: int64\n"
     ]
    }
   ],
   "source": [
    "# Merge item_categories from items table to training data (sales dataframe)\n",
    "sales = pd.merge(sales, items, on ='item_id', how = 'left')\n",
    "# Confirm that all sales item has a item_category\n",
    "print(sales.isna().sum())"
   ]
  },
  {
   "cell_type": "code",
   "execution_count": 12,
   "metadata": {
    "colab": {
     "base_uri": "https://localhost:8080/"
    },
    "id": "wqK7NDQSGsSF",
    "outputId": "78d44aa0-1015-419c-b42e-d7211a516e28"
   },
   "outputs": [
    {
     "data": {
      "text/plain": [
       "item_category_name    84\n",
       "item_category_id      84\n",
       "dtype: int64"
      ]
     },
     "execution_count": 12,
     "metadata": {},
     "output_type": "execute_result"
    }
   ],
   "source": [
    "item_categories.nunique()"
   ]
  },
  {
   "cell_type": "code",
   "execution_count": 13,
   "metadata": {
    "colab": {
     "base_uri": "https://localhost:8080/"
    },
    "id": "_yOb697lFCxV",
    "outputId": "8eaec930-e3f1-451f-b724-2e60aa9c355f"
   },
   "outputs": [
    {
     "name": "stdout",
     "output_type": "stream",
     "text": [
      "(22170, 3)\n",
      "                                           item_name  item_id  \\\n",
      "0          ! ВО ВЛАСТИ НАВАЖДЕНИЯ (ПЛАСТ.)         D        0   \n",
      "1  !ABBYY FineReader 12 Professional Edition Full...        1   \n",
      "2      ***В ЛУЧАХ СЛАВЫ   (UNV)                    D        2   \n",
      "3    ***ГОЛУБАЯ ВОЛНА  (Univ)                      D        3   \n",
      "4        ***КОРОБКА (СТЕКЛО)                       D        4   \n",
      "\n",
      "   item_category_id  \n",
      "0                40  \n",
      "1                76  \n",
      "2                40  \n",
      "3                40  \n",
      "4                40  \n"
     ]
    },
    {
     "data": {
      "text/plain": [
       "item_name           22170\n",
       "item_id             22170\n",
       "item_category_id       84\n",
       "dtype: int64"
      ]
     },
     "execution_count": 13,
     "metadata": {},
     "output_type": "execute_result"
    }
   ],
   "source": [
    "print(items.shape)\n",
    "print(items.head())\n",
    "items.nunique()"
   ]
  },
  {
   "cell_type": "code",
   "execution_count": 16,
   "metadata": {
    "colab": {
     "base_uri": "https://localhost:8080/",
     "height": 219
    },
    "id": "qoQ4pXIdEfVQ",
    "outputId": "1a2da164-97ea-4405-82fd-49e5ebd5d4a6"
   },
   "outputs": [
    {
     "name": "stdout",
     "output_type": "stream",
     "text": [
      "(60, 2)\n"
     ]
    },
    {
     "data": {
      "text/html": [
       "<div>\n",
       "<style scoped>\n",
       "    .dataframe tbody tr th:only-of-type {\n",
       "        vertical-align: middle;\n",
       "    }\n",
       "\n",
       "    .dataframe tbody tr th {\n",
       "        vertical-align: top;\n",
       "    }\n",
       "\n",
       "    .dataframe thead th {\n",
       "        text-align: right;\n",
       "    }\n",
       "</style>\n",
       "<table border=\"1\" class=\"dataframe\">\n",
       "  <thead>\n",
       "    <tr style=\"text-align: right;\">\n",
       "      <th></th>\n",
       "      <th>shop_name</th>\n",
       "      <th>shop_id</th>\n",
       "    </tr>\n",
       "  </thead>\n",
       "  <tbody>\n",
       "    <tr>\n",
       "      <th>0</th>\n",
       "      <td>!Якутск Орджоникидзе, 56 фран</td>\n",
       "      <td>0</td>\n",
       "    </tr>\n",
       "    <tr>\n",
       "      <th>1</th>\n",
       "      <td>!Якутск ТЦ \"Центральный\" фран</td>\n",
       "      <td>1</td>\n",
       "    </tr>\n",
       "    <tr>\n",
       "      <th>2</th>\n",
       "      <td>Адыгея ТЦ \"Мега\"</td>\n",
       "      <td>2</td>\n",
       "    </tr>\n",
       "    <tr>\n",
       "      <th>3</th>\n",
       "      <td>Балашиха ТРК \"Октябрь-Киномир\"</td>\n",
       "      <td>3</td>\n",
       "    </tr>\n",
       "    <tr>\n",
       "      <th>4</th>\n",
       "      <td>Волжский ТЦ \"Волга Молл\"</td>\n",
       "      <td>4</td>\n",
       "    </tr>\n",
       "  </tbody>\n",
       "</table>\n",
       "</div>"
      ],
      "text/plain": [
       "                        shop_name  shop_id\n",
       "0   !Якутск Орджоникидзе, 56 фран        0\n",
       "1   !Якутск ТЦ \"Центральный\" фран        1\n",
       "2                Адыгея ТЦ \"Мега\"        2\n",
       "3  Балашиха ТРК \"Октябрь-Киномир\"        3\n",
       "4        Волжский ТЦ \"Волга Молл\"        4"
      ]
     },
     "execution_count": 16,
     "metadata": {},
     "output_type": "execute_result"
    }
   ],
   "source": [
    "print(shops.shape)\n",
    "shops.head()"
   ]
  },
  {
   "cell_type": "code",
   "execution_count": 17,
   "metadata": {
    "colab": {
     "base_uri": "https://localhost:8080/",
     "height": 127
    },
    "id": "Mybv7OkjYwDJ",
    "outputId": "6d4dbaa8-1cf6-4611-cd89-14f02233e46b"
   },
   "outputs": [
    {
     "name": "stdout",
     "output_type": "stream",
     "text": [
      "(214200, 3)\n"
     ]
    },
    {
     "data": {
      "text/html": [
       "<div>\n",
       "<style scoped>\n",
       "    .dataframe tbody tr th:only-of-type {\n",
       "        vertical-align: middle;\n",
       "    }\n",
       "\n",
       "    .dataframe tbody tr th {\n",
       "        vertical-align: top;\n",
       "    }\n",
       "\n",
       "    .dataframe thead th {\n",
       "        text-align: right;\n",
       "    }\n",
       "</style>\n",
       "<table border=\"1\" class=\"dataframe\">\n",
       "  <thead>\n",
       "    <tr style=\"text-align: right;\">\n",
       "      <th></th>\n",
       "      <th>ID</th>\n",
       "      <th>shop_id</th>\n",
       "      <th>item_id</th>\n",
       "    </tr>\n",
       "  </thead>\n",
       "  <tbody>\n",
       "    <tr>\n",
       "      <th>0</th>\n",
       "      <td>0</td>\n",
       "      <td>5</td>\n",
       "      <td>5037</td>\n",
       "    </tr>\n",
       "    <tr>\n",
       "      <th>1</th>\n",
       "      <td>1</td>\n",
       "      <td>5</td>\n",
       "      <td>5320</td>\n",
       "    </tr>\n",
       "  </tbody>\n",
       "</table>\n",
       "</div>"
      ],
      "text/plain": [
       "   ID  shop_id  item_id\n",
       "0   0        5     5037\n",
       "1   1        5     5320"
      ]
     },
     "execution_count": 17,
     "metadata": {},
     "output_type": "execute_result"
    }
   ],
   "source": [
    "print(test.shape)\n",
    "test.head(2)"
   ]
  },
  {
   "cell_type": "code",
   "execution_count": 18,
   "metadata": {
    "colab": {
     "base_uri": "https://localhost:8080/"
    },
    "id": "5IMNyExZZzT4",
    "outputId": "c402c149-7dcb-4f0e-f045-fab1c20fda85"
   },
   "outputs": [
    {
     "data": {
      "text/plain": [
       "ID         214200\n",
       "shop_id        42\n",
       "item_id      5100\n",
       "dtype: int64"
      ]
     },
     "execution_count": 18,
     "metadata": {},
     "output_type": "execute_result"
    }
   ],
   "source": [
    "test.nunique()"
   ]
  },
  {
   "cell_type": "code",
   "execution_count": 19,
   "metadata": {
    "colab": {
     "base_uri": "https://localhost:8080/"
    },
    "id": "qrwwDc4iKKr2",
    "outputId": "6b703106-8c51-4978-bc77-048e62b69329"
   },
   "outputs": [
    {
     "data": {
      "text/plain": [
       "(-22.0, 2169.0)"
      ]
     },
     "execution_count": 19,
     "metadata": {},
     "output_type": "execute_result"
    }
   ],
   "source": [
    "sales.item_cnt_day.min(), sales.item_cnt_day.max()"
   ]
  },
  {
   "cell_type": "code",
   "execution_count": 20,
   "metadata": {
    "colab": {
     "base_uri": "https://localhost:8080/"
    },
    "id": "Zzc3WWIILllp",
    "outputId": "7f913b34-4c99-453d-f042-aadbf5cdde91"
   },
   "outputs": [
    {
     "data": {
      "text/plain": [
       "array([25, 24, 19, 22, 23, 28, 27, 29, 26,  4,  2,  6, 16, 15, 18,  7, 14,\n",
       "       12, 31, 30, 32, 35, 56, 54, 59, 53, 47, 50, 42, 43, 52, 38, 44, 41,\n",
       "       37, 46, 45, 21,  5,  3, 57,  8, 58, 17,  9, 49, 55, 39, 40, 48, 34,\n",
       "       33, 20, 36], dtype=int64)"
      ]
     },
     "execution_count": 20,
     "metadata": {},
     "output_type": "execute_result"
    }
   ],
   "source": [
    "# List the shop IDs with items returned\n",
    "sales[sales.item_cnt_day < 0]['shop_id'].unique()"
   ]
  },
  {
   "cell_type": "code",
   "execution_count": 21,
   "metadata": {
    "colab": {
     "base_uri": "https://localhost:8080/",
     "height": 297
    },
    "id": "qADx0ptwRcZQ",
    "outputId": "9a9038d5-b800-4385-b01d-426051651959"
   },
   "outputs": [
    {
     "data": {
      "text/plain": [
       "<AxesSubplot:xlabel='date_block_num'>"
      ]
     },
     "execution_count": 21,
     "metadata": {},
     "output_type": "execute_result"
    },
    {
     "data": {
      "image/png": "[encoded data removed]",
      "text/plain": [
       "<Figure size 432x288 with 1 Axes>"
      ]
     },
     "metadata": {
      "needs_background": "light"
     },
     "output_type": "display_data"
    }
   ],
   "source": [
    "# There are yearly patterns and descending trend according to the chart below.\n",
    "item_cnt_bymonth = sales.groupby(['date_block_num'])['item_cnt_day'].sum()\n",
    "item_cnt_bymonth.plot()"
   ]
  },
  {
   "cell_type": "code",
   "execution_count": 22,
   "metadata": {
    "colab": {
     "base_uri": "https://localhost:8080/",
     "height": 540
    },
    "id": "rtmLTQ6COzdZ",
    "outputId": "9e10ec32-5644-460c-ccae-6d8eb2e133aa"
   },
   "outputs": [
    {
     "name": "stdout",
     "output_type": "stream",
     "text": [
      "      date_block_num  shop_id  item_cnt_day\n",
      "0                  0        0        5578.0\n",
      "1                  0        1        2947.0\n",
      "2                  0        2        1146.0\n",
      "3                  0        3         767.0\n",
      "4                  0        4        2114.0\n",
      "...              ...      ...           ...\n",
      "1581              33       55        1972.0\n",
      "1582              33       56        1263.0\n",
      "1583              33       57        2316.0\n",
      "1584              33       58        1446.0\n",
      "1585              33       59         790.0\n",
      "\n",
      "[1586 rows x 3 columns]\n"
     ]
    },
    {
     "data": {
      "text/plain": [
       "<AxesSubplot:xlabel='date_block_num', ylabel='item_cnt_day'>"
      ]
     },
     "execution_count": 22,
     "metadata": {},
     "output_type": "execute_result"
    },
    {
     "data": {
      "image/png": "[encoded data removed]",
      "text/plain": [
       "<Figure size 432x288 with 1 Axes>"
      ]
     },
     "metadata": {
      "needs_background": "light"
     },
     "output_type": "display_data"
    }
   ],
   "source": [
    "cnt_byshop = sales.groupby(['date_block_num', 'shop_id'], as_index = False)['item_cnt_day'].sum()\n",
    "print(cnt_byshop)\n",
    "sns.lineplot(x = 'date_block_num', y = 'item_cnt_day', hue = 'shop_id', data = cnt_byshop)"
   ]
  },
  {
   "cell_type": "code",
   "execution_count": 23,
   "metadata": {},
   "outputs": [
    {
     "data": {
      "text/html": [
       "<div>\n",
       "<style scoped>\n",
       "    .dataframe tbody tr th:only-of-type {\n",
       "        vertical-align: middle;\n",
       "    }\n",
       "\n",
       "    .dataframe tbody tr th {\n",
       "        vertical-align: top;\n",
       "    }\n",
       "\n",
       "    .dataframe thead th {\n",
       "        text-align: right;\n",
       "    }\n",
       "</style>\n",
       "<table border=\"1\" class=\"dataframe\">\n",
       "  <thead>\n",
       "    <tr style=\"text-align: right;\">\n",
       "      <th></th>\n",
       "      <th>date</th>\n",
       "      <th>date_block_num</th>\n",
       "      <th>shop_id</th>\n",
       "      <th>item_id</th>\n",
       "      <th>item_price</th>\n",
       "      <th>item_cnt_day</th>\n",
       "      <th>item_name</th>\n",
       "      <th>item_category_id</th>\n",
       "    </tr>\n",
       "  </thead>\n",
       "  <tbody>\n",
       "    <tr>\n",
       "      <th>0</th>\n",
       "      <td>02.01.2013</td>\n",
       "      <td>0</td>\n",
       "      <td>59</td>\n",
       "      <td>22154</td>\n",
       "      <td>999.00</td>\n",
       "      <td>1.0</td>\n",
       "      <td>ЯВЛЕНИЕ 2012 (BD)</td>\n",
       "      <td>37</td>\n",
       "    </tr>\n",
       "    <tr>\n",
       "      <th>1</th>\n",
       "      <td>03.01.2013</td>\n",
       "      <td>0</td>\n",
       "      <td>25</td>\n",
       "      <td>2552</td>\n",
       "      <td>899.00</td>\n",
       "      <td>1.0</td>\n",
       "      <td>DEEP PURPLE  The House Of Blue Light  LP</td>\n",
       "      <td>58</td>\n",
       "    </tr>\n",
       "    <tr>\n",
       "      <th>2</th>\n",
       "      <td>05.01.2013</td>\n",
       "      <td>0</td>\n",
       "      <td>25</td>\n",
       "      <td>2552</td>\n",
       "      <td>899.00</td>\n",
       "      <td>-1.0</td>\n",
       "      <td>DEEP PURPLE  The House Of Blue Light  LP</td>\n",
       "      <td>58</td>\n",
       "    </tr>\n",
       "    <tr>\n",
       "      <th>3</th>\n",
       "      <td>06.01.2013</td>\n",
       "      <td>0</td>\n",
       "      <td>25</td>\n",
       "      <td>2554</td>\n",
       "      <td>1709.05</td>\n",
       "      <td>1.0</td>\n",
       "      <td>DEEP PURPLE  Who Do You Think We Are  LP</td>\n",
       "      <td>58</td>\n",
       "    </tr>\n",
       "    <tr>\n",
       "      <th>4</th>\n",
       "      <td>15.01.2013</td>\n",
       "      <td>0</td>\n",
       "      <td>25</td>\n",
       "      <td>2555</td>\n",
       "      <td>1099.00</td>\n",
       "      <td>1.0</td>\n",
       "      <td>DEEP PURPLE 30 Very Best Of 2CD (Фирм.)</td>\n",
       "      <td>56</td>\n",
       "    </tr>\n",
       "  </tbody>\n",
       "</table>\n",
       "</div>"
      ],
      "text/plain": [
       "         date  date_block_num  shop_id  item_id  item_price  item_cnt_day  \\\n",
       "0  02.01.2013               0       59    22154      999.00           1.0   \n",
       "1  03.01.2013               0       25     2552      899.00           1.0   \n",
       "2  05.01.2013               0       25     2552      899.00          -1.0   \n",
       "3  06.01.2013               0       25     2554     1709.05           1.0   \n",
       "4  15.01.2013               0       25     2555     1099.00           1.0   \n",
       "\n",
       "                                  item_name  item_category_id  \n",
       "0                         ЯВЛЕНИЕ 2012 (BD)                37  \n",
       "1  DEEP PURPLE  The House Of Blue Light  LP                58  \n",
       "2  DEEP PURPLE  The House Of Blue Light  LP                58  \n",
       "3  DEEP PURPLE  Who Do You Think We Are  LP                58  \n",
       "4   DEEP PURPLE 30 Very Best Of 2CD (Фирм.)                56  "
      ]
     },
     "execution_count": 23,
     "metadata": {},
     "output_type": "execute_result"
    }
   ],
   "source": [
    "sales.head()"
   ]
  },
  {
   "cell_type": "code",
   "execution_count": 24,
   "metadata": {},
   "outputs": [
    {
     "name": "stdout",
     "output_type": "stream",
     "text": [
      "       item_id  item_price\n",
      "0            0         NaN\n",
      "1            1    0.000000\n",
      "2            2    0.000000\n",
      "3            3   29.698485\n",
      "4            4         NaN\n",
      "...        ...         ...\n",
      "21802    22165    0.000000\n",
      "21803    22166    0.000000\n",
      "21804    22167   12.677302\n",
      "21805    22168    0.204124\n",
      "21806    22169         NaN\n",
      "\n",
      "[21807 rows x 2 columns]\n"
     ]
    },
    {
     "data": {
      "text/plain": [
       "<AxesSubplot:ylabel='item_price'>"
      ]
     },
     "execution_count": 24,
     "metadata": {},
     "output_type": "execute_result"
    },
    {
     "data": {
      "image/png": "[encoded data removed]",
      "text/plain": [
       "<Figure size 432x288 with 1 Axes>"
      ]
     },
     "metadata": {
      "needs_background": "light"
     },
     "output_type": "display_data"
    }
   ],
   "source": [
    "# TBD We want to know if item prices vary on different time and shops for each item_id.\n",
    "group_price = sales.groupby(['item_id'], as_index = False)['item_price'].std()\n",
    "#group_price = group_price.loc[group_price.item_id < 10, :]\n",
    "print(group_price)\n",
    "sns.violinplot(y = 'item_price', data = group_price)\n",
    "#sns.lineplot(x = 'date_block_num', y = 'item_id', hue = 'date_block_num', data = group_price)"
   ]
  },
  {
   "cell_type": "code",
   "execution_count": 25,
   "metadata": {
    "colab": {
     "base_uri": "https://localhost:8080/"
    },
    "id": "m-XSIJTO8zW0",
    "outputId": "caab14c0-f1d6-44e1-d0e5-d6154d9d8820"
   },
   "outputs": [
    {
     "data": {
      "text/plain": [
       "0          5\n",
       "1          5\n",
       "2          5\n",
       "3          5\n",
       "4          5\n",
       "          ..\n",
       "214195    45\n",
       "214196    45\n",
       "214197    45\n",
       "214198    45\n",
       "214199    45\n",
       "Name: shop_id, Length: 214200, dtype: int64"
      ]
     },
     "execution_count": 25,
     "metadata": {},
     "output_type": "execute_result"
    }
   ],
   "source": [
    "test['shop_id']"
   ]
  },
  {
   "cell_type": "markdown",
   "metadata": {
    "id": "_CeEH4xbNx85"
   },
   "source": [
    "Check if there is any shop_id in test set but not in training set. The answer is no."
   ]
  },
  {
   "cell_type": "code",
   "execution_count": 26,
   "metadata": {
    "colab": {
     "base_uri": "https://localhost:8080/"
    },
    "id": "pb1D3zRU-ZAF",
    "outputId": "d210fa64-149d-4407-db33-c5369d6f660d"
   },
   "outputs": [
    {
     "name": "stdout",
     "output_type": "stream",
     "text": [
      "Series([], Name: shop_id, dtype: int64)\n"
     ]
    }
   ],
   "source": [
    "b = ~test['shop_id'].isin(sales['shop_id'])\n",
    "print(test.loc[b, 'shop_id'])"
   ]
  },
  {
   "cell_type": "markdown",
   "metadata": {
    "id": "0V7-1PXoR2AE"
   },
   "source": [
    "Check if there is any item_id in test set but not in training set. The answer is Yes!\n",
    "Therefore, we have to predict using other features such as item_categories, time, shop_id, etc."
   ]
  },
  {
   "cell_type": "code",
   "execution_count": 27,
   "metadata": {
    "colab": {
     "base_uri": "https://localhost:8080/"
    },
    "id": "9geZB63bSQwM",
    "outputId": "9aeb65cc-3d30-4b90-fe35-d8770b5cb040"
   },
   "outputs": [
    {
     "name": "stdout",
     "output_type": "stream",
     "text": [
      "[ 5320  5268  5826  3538  3571  3604  3407  3408  3405  3984  8551  8822\n",
      "  8823  8824  8890 10779  9767  8355  8354  6729  6731  6732  6152  6153\n",
      "  6742  7782  7862  6743  6335 13559 13804 13402 14647 14832 14959  2327\n",
      "  1732  2322  2323  2326  2569  2966 21467 20400 20401 20836  1580  1585\n",
      "  1246  1437  2328  2427  2325  3022  1193  1252  1386  1884  1885  1577\n",
      "  3627  4412  3271  3349 13558 13310 13338 12890 13805 13309 12568 13275\n",
      " 13251 13303 13250 13249 13232 13242 14648 19773 18913 21397 21708 16051\n",
      " 16141 16193 15553  1284  5269  6730  3338  4060 11974  7728  7729  7926\n",
      "  8549  8826  5812  5025  9972 11762  7669 13263 13264  8993  7727 18174\n",
      " 19219  6863 12117 13209 13273 14521  7592  7607  7646  6903  8545  5322\n",
      "  4156  5843 11385 13271 10028 10203 16139 22022  3760  3908   640   639\n",
      "   140   249   428 10507 10045 12469 14784 15665 13745 12802 12961  5844\n",
      "  6996  7730  8191  6734 20403 20560 20378 20878 16976 19155 21828  1864\n",
      " 20680  3282  3579  2324 12468 13284 13231 17858 16097 15330 15566  8676\n",
      "  8825  8821  9344  7647  8182  9537  4642  5248  4318  4310  6259  5963\n",
      "  5961  3354  1253   892 22137  6733  5541  5667 18627 18560 17929 17757\n",
      " 19085 19210 18979  3023 20996 21354 20845 20760 21453 19775 20600 20599\n",
      " 20594 20461 20439 19048 16601 15329 13445 11765   237 21196 21214  3284\n",
      "   762  6519  6521  6522  6523  6524  6525  6526  6527  6528  6529  6530\n",
      "  6520  6532 15034 20837 15564 20486 19966 13295 13313 13394 13257 13047\n",
      " 13846 11946 12409 11267 12591 16095 16096 16099 17030 17117 15667 15586\n",
      " 16498 14383 14739  5064  5441  5321  5121 10069 10054 10176 10310 10747\n",
      " 10483 10372  8337  8850  8957  8968  8969  8760  8722 13447  6533 13392\n",
      "  1254  3273    83 15467 11764 12471 12441  2426  4925  6891  6531  1683\n",
      "  2420 20561   566  6169 20879 19417 14765 14760 14662  1679 13446 15418\n",
      " 19651 20196 20880 20843 20796 16157 19252 12920  9530  9111 13096  6645\n",
      "  6439  5569  5722  5721  7766  7124  7094 16811 16813 15183   480   402\n",
      "   254   204   168  1434  1394  1184   907   900  1436  3867  1575  1574\n",
      "  2428  2722  2434 22035 21829 16675 20577 20535 20476 12574 20677 20863\n",
      " 19973 21975 21974 21953  3272   454   430   302   173 14972 15033  7572\n",
      "  9030  1867 12470]\n"
     ]
    }
   ],
   "source": [
    "print(test.loc[~test['item_id'].isin(sales['item_id'])]['item_id'].unique())"
   ]
  },
  {
   "cell_type": "code",
   "execution_count": 28,
   "metadata": {
    "colab": {
     "base_uri": "https://localhost:8080/",
     "height": 352
    },
    "id": "0szpHNmcUqvi",
    "outputId": "235d0665-9a18-43af-a095-ef1b31dfdc62"
   },
   "outputs": [
    {
     "data": {
      "text/plain": [
       "<AxesSubplot:xlabel='item_cnt_day'>"
      ]
     },
     "execution_count": 28,
     "metadata": {},
     "output_type": "execute_result"
    },
    {
     "data": {
      "image/png": "[encoded data removed]",
      "text/plain": [
       "<Figure size 432x288 with 1 Axes>"
      ]
     },
     "metadata": {
      "needs_background": "light"
     },
     "output_type": "display_data"
    }
   ],
   "source": [
    "sns.boxplot(x = sales['item_cnt_day'])"
   ]
  },
  {
   "cell_type": "code",
   "execution_count": 29,
   "metadata": {
    "colab": {
     "base_uri": "https://localhost:8080/",
     "height": 145
    },
    "id": "qU9VjvZgXQPK",
    "outputId": "17d388b2-4fc0-4260-c0d4-c35cdc54f348"
   },
   "outputs": [],
   "source": [
    "# Check rows with item_cnt_day > 1000\n",
    "sales.loc[sales['item_cnt_day'] >= 1000, :]\n",
    "# Remove outliers\n",
    "sales = sales.loc[sales['item_cnt_day'] < 1000, :]"
   ]
  },
  {
   "cell_type": "markdown",
   "metadata": {
    "id": "fdKfgDM2Aj-Q"
   },
   "source": [
    "Feature Engineering"
   ]
  },
  {
   "cell_type": "code",
   "execution_count": 30,
   "metadata": {
    "colab": {
     "base_uri": "https://localhost:8080/"
    },
    "id": "oC-m6MJhXvwb",
    "outputId": "a53ab9e6-d61a-4521-f9af-80e07d0eb745",
    "scrolled": true
   },
   "outputs": [
    {
     "name": "stdout",
     "output_type": "stream",
     "text": [
      "<class 'holidays.countries.russia.Russia'>\n",
      "{}\n"
     ]
    }
   ],
   "source": [
    "# TBD ??? emply???\n",
    "ru_holidays = holidays.Russia()\n",
    "print(type(ru_holidays))\n",
    "print(ru_holidays)"
   ]
  },
  {
   "cell_type": "code",
   "execution_count": 31,
   "metadata": {
    "id": "_v9fB7kjtEDj"
   },
   "outputs": [],
   "source": [
    "# To be removed\n",
    "#dt = datetime.strptime(datestring, '%Y-%m-%d %H:%M:%S')\n",
    "#sales['date'] = pd.to_datetime(sales['date'], format = '%d.%m.%Y', dayfirst = True)\n",
    "\n",
    "# Get the number of days for each month\n",
    "#sales['year'] = sales['date'].dt.year"
   ]
  },
  {
   "cell_type": "code",
   "execution_count": 32,
   "metadata": {
    "colab": {
     "base_uri": "https://localhost:8080/",
     "height": 127
    },
    "id": "vhbwqOGbB4EQ",
    "outputId": "9690dab2-9e89-4389-80a9-0290847c624e"
   },
   "outputs": [
    {
     "data": {
      "text/html": [
       "<div>\n",
       "<style scoped>\n",
       "    .dataframe tbody tr th:only-of-type {\n",
       "        vertical-align: middle;\n",
       "    }\n",
       "\n",
       "    .dataframe tbody tr th {\n",
       "        vertical-align: top;\n",
       "    }\n",
       "\n",
       "    .dataframe thead th {\n",
       "        text-align: right;\n",
       "    }\n",
       "</style>\n",
       "<table border=\"1\" class=\"dataframe\">\n",
       "  <thead>\n",
       "    <tr style=\"text-align: right;\">\n",
       "      <th></th>\n",
       "      <th>date</th>\n",
       "      <th>date_block_num</th>\n",
       "      <th>shop_id</th>\n",
       "      <th>item_id</th>\n",
       "      <th>item_price</th>\n",
       "      <th>item_cnt_day</th>\n",
       "      <th>item_name</th>\n",
       "      <th>item_category_id</th>\n",
       "      <th>year</th>\n",
       "      <th>month</th>\n",
       "      <th>day</th>\n",
       "    </tr>\n",
       "  </thead>\n",
       "  <tbody>\n",
       "    <tr>\n",
       "      <th>0</th>\n",
       "      <td>02.01.2013</td>\n",
       "      <td>0</td>\n",
       "      <td>59</td>\n",
       "      <td>22154</td>\n",
       "      <td>999.0</td>\n",
       "      <td>1.0</td>\n",
       "      <td>ЯВЛЕНИЕ 2012 (BD)</td>\n",
       "      <td>37</td>\n",
       "      <td>2013</td>\n",
       "      <td>01</td>\n",
       "      <td>02</td>\n",
       "    </tr>\n",
       "    <tr>\n",
       "      <th>1</th>\n",
       "      <td>03.01.2013</td>\n",
       "      <td>0</td>\n",
       "      <td>25</td>\n",
       "      <td>2552</td>\n",
       "      <td>899.0</td>\n",
       "      <td>1.0</td>\n",
       "      <td>DEEP PURPLE  The House Of Blue Light  LP</td>\n",
       "      <td>58</td>\n",
       "      <td>2013</td>\n",
       "      <td>01</td>\n",
       "      <td>03</td>\n",
       "    </tr>\n",
       "  </tbody>\n",
       "</table>\n",
       "</div>"
      ],
      "text/plain": [
       "         date  date_block_num  shop_id  item_id  item_price  item_cnt_day  \\\n",
       "0  02.01.2013               0       59    22154       999.0           1.0   \n",
       "1  03.01.2013               0       25     2552       899.0           1.0   \n",
       "\n",
       "                                  item_name  item_category_id  year month day  \n",
       "0                         ЯВЛЕНИЕ 2012 (BD)                37  2013    01  02  \n",
       "1  DEEP PURPLE  The House Of Blue Light  LP                58  2013    01  03  "
      ]
     },
     "execution_count": 32,
     "metadata": {},
     "output_type": "execute_result"
    }
   ],
   "source": [
    "sales['year'] = pd.to_datetime(sales['date']).dt.strftime('%Y')\n",
    "sales['month'] = sales.date.apply(lambda x: datetime.strptime(x,'%d.%m.%Y').strftime('%m'))\n",
    "sales['day'] = sales.date.apply(lambda x: datetime.strptime(x, '%d.%m.%Y').strftime('%d'))\n",
    "\n",
    "sales.head(2)"
   ]
  },
  {
   "cell_type": "code",
   "execution_count": 33,
   "metadata": {
    "colab": {
     "base_uri": "https://localhost:8080/"
    },
    "id": "DqDLlMsBcRUU",
    "outputId": "615f29ac-e646-4008-b79e-094c316dbaaf"
   },
   "outputs": [
    {
     "name": "stdout",
     "output_type": "stream",
     "text": [
      "date_block_num\n",
      "0     31\n",
      "1     28\n",
      "2     31\n",
      "3     30\n",
      "4     31\n",
      "5     30\n",
      "6     31\n",
      "7     31\n",
      "8     30\n",
      "9     31\n",
      "10    30\n",
      "11    31\n",
      "12    31\n",
      "13    28\n",
      "14    31\n",
      "15    30\n",
      "16    31\n",
      "17    30\n",
      "18    31\n",
      "19    31\n",
      "20    30\n",
      "21    31\n",
      "22    30\n",
      "23    31\n",
      "24    31\n",
      "25    28\n",
      "26    31\n",
      "27    30\n",
      "28    31\n",
      "29    30\n",
      "30    31\n",
      "31    31\n",
      "32    30\n",
      "33    31\n",
      "Name: day, dtype: object\n"
     ]
    }
   ],
   "source": [
    "# Calculate the total number of days in each month (i.e. date_block_num) \n",
    "tmp = sales.groupby(['date_block_num'])['day'].max()\n",
    "print(tmp)\n",
    "tmp = tmp.astype(int)"
   ]
  },
  {
   "cell_type": "code",
   "execution_count": 34,
   "metadata": {
    "colab": {
     "base_uri": "https://localhost:8080/"
    },
    "id": "dew2b5bItNbi",
    "outputId": "6ee7cf43-6bcc-439b-f849-9cfc0c60a15a",
    "scrolled": false
   },
   "outputs": [
    {
     "name": "stdout",
     "output_type": "stream",
     "text": [
      "         date  date_block_num  shop_id  item_id  item_price  item_cnt_day  \\\n",
      "0  02.01.2013               0       59    22154      999.00           1.0   \n",
      "1  03.01.2013               0       25     2552      899.00           1.0   \n",
      "2  05.01.2013               0       25     2552      899.00          -1.0   \n",
      "3  06.01.2013               0       25     2554     1709.05           1.0   \n",
      "4  15.01.2013               0       25     2555     1099.00           1.0   \n",
      "\n",
      "                                  item_name  item_category_id  year month day  \\\n",
      "0                         ЯВЛЕНИЕ 2012 (BD)                37  2013    01  02   \n",
      "1  DEEP PURPLE  The House Of Blue Light  LP                58  2013    01  03   \n",
      "2  DEEP PURPLE  The House Of Blue Light  LP                58  2013    01  05   \n",
      "3  DEEP PURPLE  Who Do You Think We Are  LP                58  2013    01  06   \n",
      "4   DEEP PURPLE 30 Very Best Of 2CD (Фирм.)                56  2013    01  15   \n",
      "\n",
      "   n_days  \n",
      "0      31  \n",
      "1      31  \n",
      "2      31  \n",
      "3      31  \n",
      "4      31  \n"
     ]
    }
   ],
   "source": [
    "sales['n_days'] = sales['date_block_num'].map(tmp)\n",
    "print(sales.head())"
   ]
  },
  {
   "cell_type": "code",
   "execution_count": 35,
   "metadata": {
    "colab": {
     "base_uri": "https://localhost:8080/"
    },
    "id": "vTkgOajg3YQP",
    "outputId": "8c191a5f-b8c7-449f-e33e-417425c2813a",
    "scrolled": true
   },
   "outputs": [
    {
     "name": "stdout",
     "output_type": "stream",
     "text": [
      "0   2013-01-02\n",
      "1   2013-01-03\n",
      "2   2013-01-05\n",
      "3   2013-01-06\n",
      "4   2013-01-15\n",
      "Name: date, dtype: datetime64[ns]\n",
      "datetime64[ns]\n"
     ]
    }
   ],
   "source": [
    "# Convert year, month, day strings to date with datetime64 type \n",
    "sales['date'] = sales['year'] +'-'+sales['month']+'-'+sales['day']\n",
    "sales['date'] = pd.to_datetime(sales['date'])\n",
    "print(sales['date'].head())\n",
    "print(sales['date'].dtypes)"
   ]
  },
  {
   "cell_type": "code",
   "execution_count": 36,
   "metadata": {
    "colab": {
     "base_uri": "https://localhost:8080/"
    },
    "id": "S8y-W3MuPMTD",
    "outputId": "0657c703-6534-4ec7-8eb1-66020646cc2d",
    "scrolled": false
   },
   "outputs": [
    {
     "name": "stdout",
     "output_type": "stream",
     "text": [
      "(1034,)\n",
      "<class 'pandas.core.indexes.datetimes.DatetimeIndex'>\n",
      "DatetimeIndex(['2013-01-01', '2013-01-02', '2013-01-03', '2013-01-04',\n",
      "               '2013-01-05', '2013-01-06', '2013-01-07', '2013-01-08',\n",
      "               '2013-01-09', '2013-01-10',\n",
      "               ...\n",
      "               '2015-10-22', '2015-10-23', '2015-10-24', '2015-10-25',\n",
      "               '2015-10-26', '2015-10-27', '2015-10-28', '2015-10-29',\n",
      "               '2015-10-30', '2015-10-31'],\n",
      "              dtype='datetime64[ns]', length=1034, freq='D')\n"
     ]
    }
   ],
   "source": [
    "a = sales['date'].unique()\n",
    "print(a.shape)\n",
    "dates = pd.date_range('2013-1-1', '2015-10-31')\n",
    "print(type(dates))\n",
    "print(dates)\n",
    "# It means that all dates appear in training data."
   ]
  },
  {
   "cell_type": "code",
   "execution_count": 37,
   "metadata": {
    "colab": {
     "base_uri": "https://localhost:8080/"
    },
    "id": "vpHZPwugc0q-",
    "outputId": "459803e8-43bc-4829-e34f-9eda8d8ef8a5"
   },
   "outputs": [
    {
     "name": "stdout",
     "output_type": "stream",
     "text": [
      "<class 'pandas.core.indexes.datetimes.DatetimeIndex'>\n",
      "Index(['date'], dtype='object')\n",
      "        date\n",
      "0 2013-01-01\n",
      "1 2013-01-02\n",
      "2 2013-01-03\n",
      "3 2013-01-04\n",
      "4 2013-01-05\n"
     ]
    }
   ],
   "source": [
    "# Create a column with correct date type\n",
    "print(type(dates))\n",
    "d = dates.to_frame(index = False, name = 'date')\n",
    "print(d.columns)\n",
    "print(d.head())"
   ]
  },
  {
   "cell_type": "code",
   "execution_count": 38,
   "metadata": {
    "colab": {
     "base_uri": "https://localhost:8080/"
    },
    "id": "rgax02eiW5Iu",
    "outputId": "245f42e1-7978-4baf-841e-87e1d7354829"
   },
   "outputs": [],
   "source": [
    "tmp_d = sales[['date_block_num', 'date']]\n",
    "tr_date = pd.merge(d, tmp_d, on = 'date', how = 'inner')\n",
    "tr_date.drop_duplicates(inplace = True)\n",
    "tr_date = tr_date.reset_index(drop = True)"
   ]
  },
  {
   "cell_type": "code",
   "execution_count": 39,
   "metadata": {},
   "outputs": [
    {
     "name": "stdout",
     "output_type": "stream",
     "text": [
      "         date  date_block_num\n",
      "0  2015-11-01              34\n",
      "1  2015-11-02              34\n",
      "2  2015-11-03              34\n",
      "3  2015-11-04              34\n",
      "4  2015-11-05              34\n",
      "5  2015-11-06              34\n",
      "6  2015-11-07              34\n",
      "7  2015-11-08              34\n",
      "8  2015-11-09              34\n",
      "9  2015-11-10              34\n",
      "10 2015-11-11              34\n",
      "11 2015-11-12              34\n",
      "12 2015-11-13              34\n",
      "13 2015-11-14              34\n",
      "14 2015-11-15              34\n",
      "15 2015-11-16              34\n",
      "16 2015-11-17              34\n",
      "17 2015-11-18              34\n",
      "18 2015-11-19              34\n",
      "19 2015-11-20              34\n",
      "20 2015-11-21              34\n",
      "21 2015-11-22              34\n",
      "22 2015-11-23              34\n",
      "23 2015-11-24              34\n",
      "24 2015-11-25              34\n",
      "25 2015-11-26              34\n",
      "26 2015-11-27              34\n",
      "27 2015-11-28              34\n",
      "28 2015-11-29              34\n",
      "29 2015-11-30              34\n"
     ]
    }
   ],
   "source": [
    "# Create dates for test set\n",
    "t_date = pd.date_range('2015/11/01', '2015/11/30')\n",
    "t_date = t_date.to_frame(index = False, name = 'date')\n",
    "t_date['date_block_num'] = 34\n",
    "print(t_date)"
   ]
  },
  {
   "cell_type": "code",
   "execution_count": 40,
   "metadata": {},
   "outputs": [
    {
     "name": "stdout",
     "output_type": "stream",
     "text": [
      "           date  date_block_num\n",
      "0    2013-01-01               0\n",
      "1    2013-01-02               0\n",
      "2    2013-01-03               0\n",
      "3    2013-01-04               0\n",
      "4    2013-01-05               0\n",
      "...         ...             ...\n",
      "1059 2015-11-26              34\n",
      "1060 2015-11-27              34\n",
      "1061 2015-11-28              34\n",
      "1062 2015-11-29              34\n",
      "1063 2015-11-30              34\n",
      "\n",
      "[1064 rows x 2 columns]\n"
     ]
    }
   ],
   "source": [
    "# Merge training and test date + date_block_num\n",
    "table = pd.concat([tr_date, t_date], ignore_index = True, axis = 0)\n",
    "print(table)"
   ]
  },
  {
   "cell_type": "code",
   "execution_count": 41,
   "metadata": {
    "colab": {
     "base_uri": "https://localhost:8080/"
    },
    "id": "RT19qF4okTlP",
    "outputId": "b1883c6e-051e-4d9a-ba04-2364f26063c4"
   },
   "outputs": [
    {
     "name": "stdout",
     "output_type": "stream",
     "text": [
      "        date  date_block_num  b_weekend\n",
      "0 2013-01-01               0      False\n",
      "1 2013-01-02               0      False\n",
      "2 2013-01-03               0      False\n",
      "3 2013-01-04               0      False\n",
      "4 2013-01-05               0       True\n"
     ]
    }
   ],
   "source": [
    "table['b_weekend'] = table['date'].apply(lambda x: x.weekday() in [5,6])\n",
    "print(table.head())"
   ]
  },
  {
   "cell_type": "code",
   "execution_count": 42,
   "metadata": {
    "colab": {
     "base_uri": "https://localhost:8080/"
    },
    "id": "KRZszXhfrvtx",
    "outputId": "535ffd74-6f14-4873-ef1f-534fe96bc2bb",
    "scrolled": true
   },
   "outputs": [
    {
     "name": "stdout",
     "output_type": "stream",
     "text": [
      "date_block_num\n",
      "0      8\n",
      "1      8\n",
      "2     10\n",
      "3      8\n",
      "4      8\n",
      "5     10\n",
      "6      8\n",
      "7      9\n",
      "8      9\n",
      "9      8\n",
      "10     9\n",
      "11     9\n",
      "12     8\n",
      "13     8\n",
      "14    10\n",
      "15     8\n",
      "16     9\n",
      "17     9\n",
      "18     8\n",
      "19    10\n",
      "20     8\n",
      "21     8\n",
      "22    10\n",
      "23     8\n",
      "24     9\n",
      "25     8\n",
      "26     9\n",
      "27     8\n",
      "28    10\n",
      "29     8\n",
      "30     8\n",
      "31    10\n",
      "32     8\n",
      "33     9\n",
      "34     9\n",
      "Name: b_weekend, dtype: int64\n"
     ]
    }
   ],
   "source": [
    "# Number of weekend days in each month (i.e. 'date_block_num') including the date of test set (2015/11)\n",
    "n_week = table.groupby(['date_block_num'])['b_weekend'].sum()\n",
    "print(n_week)"
   ]
  },
  {
   "cell_type": "code",
   "execution_count": 43,
   "metadata": {},
   "outputs": [
    {
     "name": "stdout",
     "output_type": "stream",
     "text": [
      "                        shop_name  shop_id\n",
      "0   !Якутск Орджоникидзе, 56 фран        0\n",
      "1   !Якутск ТЦ \"Центральный\" фран        1\n",
      "2                Адыгея ТЦ \"Мега\"        2\n",
      "3  Балашиха ТРК \"Октябрь-Киномир\"        3\n",
      "4        Волжский ТЦ \"Волга Молл\"        4\n",
      "5          Вологда ТРЦ \"Мармелад\"        5\n",
      "6      Воронеж (Плехановская, 13)        6\n",
      "7          Воронеж ТРЦ \"Максимир\"        7\n",
      "8    Воронеж ТРЦ Сити-Парк \"Град\"        8\n",
      "9               Выездная Торговля        9\n",
      "   shop_id  city_id\n",
      "0        0        0\n",
      "1        1        0\n",
      "2        2        1\n",
      "3        3        2\n",
      "4        4        3\n"
     ]
    }
   ],
   "source": [
    "# Create 'city_id' from 'shop_name'\n",
    "print(shops.loc[shops.shop_id < 10 ,:])\n",
    "shops['city_id'] = shops['shop_name'].str.split(' ').map(lambda x: x[0])\n",
    "shops['city_id'] = LabelEncoder().fit_transform(shops['city_id'])\n",
    "map_shops = shops[['shop_id', 'city_id']]\n",
    "print(map_shops.head())"
   ]
  },
  {
   "cell_type": "code",
   "execution_count": 44,
   "metadata": {},
   "outputs": [
    {
     "name": "stdout",
     "output_type": "stream",
     "text": [
      "           item_category_name  item_category_id\n",
      "0     PC - Гарнитуры/Наушники                 0\n",
      "1            Аксессуары - PS2                 1\n",
      "2            Аксессуары - PS3                 2\n",
      "3            Аксессуары - PS4                 3\n",
      "4            Аксессуары - PSP                 4\n",
      "..                        ...               ...\n",
      "79                  Служебные                79\n",
      "80         Служебные - Билеты                80\n",
      "81    Чистые носители (шпиль)                81\n",
      "82  Чистые носители (штучные)                82\n",
      "83           Элементы питания                83\n",
      "\n",
      "[84 rows x 2 columns]\n",
      "0\n",
      "   item_category_id  item_type\n",
      "0                 0          0\n",
      "1                 1          1\n",
      "2                 2          1\n",
      "3                 3          1\n",
      "4                 4          1\n"
     ]
    }
   ],
   "source": [
    "# Create \n",
    "print(item_categories.head(100))\n",
    "item_categories['item_type'] = item_categories['item_category_name'].str.split('-').map(lambda x: x[0])\n",
    "print(item_categories['item_type'].isna().sum())\n",
    "\n",
    "item_categories['item_type'] = LabelEncoder().fit_transform(item_categories['item_type'])\n",
    "map_item_categories = item_categories[['item_category_id', 'item_type']]\n",
    "print(map_item_categories.head())"
   ]
  },
  {
   "cell_type": "code",
   "execution_count": 45,
   "metadata": {},
   "outputs": [
    {
     "name": "stdout",
     "output_type": "stream",
     "text": [
      "Empty DataFrame\n",
      "Columns: [date, date_block_num, shop_id, item_id, item_price, item_cnt_day, item_name, item_category_id, year, month, day, n_days]\n",
      "Index: []\n"
     ]
    }
   ],
   "source": [
    "# TEST CODE\n",
    "a = sales.loc[(sales['date_block_num'] == 0) & (sales['shop_id'] == 0) & (sales['item_id'] == 1), :]\n",
    "#a = sales.loc[sales['item_id'] == 1480, :]\n",
    "print(a)\n",
    "#print('item_cnt_day=', a['item_cnt_day'].sum())"
   ]
  },
  {
   "cell_type": "code",
   "execution_count": 46,
   "metadata": {},
   "outputs": [
    {
     "name": "stdout",
     "output_type": "stream",
     "text": [
      "         date_block_num  shop_id  item_id  item_cnt_mon\n",
      "0                     0        0       32           6.0\n",
      "1                     0        0       33           3.0\n",
      "2                     0        0       35           1.0\n",
      "3                     0        0       43           1.0\n",
      "4                     0        0       51           2.0\n",
      "...                 ...      ...      ...           ...\n",
      "1609118              33       59    22087           6.0\n",
      "1609119              33       59    22088           2.0\n",
      "1609120              33       59    22091           1.0\n",
      "1609121              33       59    22100           1.0\n",
      "1609122              33       59    22102           1.0\n",
      "\n",
      "[1609123 rows x 4 columns]\n"
     ]
    }
   ],
   "source": [
    "# TBD Each date_block_num should include ALL shop_id + item_id combinations??\n",
    "# Basis for later model. Create a dataframe with date_block_num, shop_id, and item_id. Each date_block_num has unique shop_id + item_id\n",
    "col = ['date_block_num', 'shop_id', 'item_id']\n",
    "train = sales.groupby(col, as_index = False)['item_cnt_day'].sum()\n",
    "# Column 'item_cnt_day' should be renamed as 'item_cnt_mon'\n",
    "train = train.rename({'item_cnt_day': 'item_cnt_mon'}, axis = 1)\n",
    "train['item_cnt_mon'] = train['item_cnt_mon'].fillna(0).clip(0,20)\n",
    "print(train)"
   ]
  },
  {
   "cell_type": "code",
   "execution_count": 47,
   "metadata": {},
   "outputs": [],
   "source": [
    "test['date_block_num'] = 34"
   ]
  },
  {
   "cell_type": "code",
   "execution_count": 48,
   "metadata": {},
   "outputs": [
    {
     "name": "stdout",
     "output_type": "stream",
     "text": [
      "         date_block_num  shop_id  item_id  item_cnt_mon\n",
      "0                     0        0       32           6.0\n",
      "1                     0        0       33           3.0\n",
      "2                     0        0       35           1.0\n",
      "3                     0        0       43           1.0\n",
      "4                     0        0       51           2.0\n",
      "...                 ...      ...      ...           ...\n",
      "1823318              34       45    18454           0.0\n",
      "1823319              34       45    16188           0.0\n",
      "1823320              34       45    15757           0.0\n",
      "1823321              34       45    19648           0.0\n",
      "1823322              34       45      969           0.0\n",
      "\n",
      "[1823323 rows x 4 columns]\n"
     ]
    }
   ],
   "source": [
    "# Merge training and test set as 'df' dataframe for feature engineering. \n",
    "df = pd.concat([train, test.drop(['ID'], axis = 1)], ignore_index = True, sort = False, keys = col)\n",
    "df.fillna(0, inplace = True)\n",
    "print(df)"
   ]
  },
  {
   "cell_type": "code",
   "execution_count": 49,
   "metadata": {},
   "outputs": [
    {
     "name": "stdout",
     "output_type": "stream",
     "text": [
      "         date_block_num  shop_id  item_id  item_cnt_mon  n_weekends\n",
      "0                     0        0       32           6.0           8\n",
      "1                     0        0       33           3.0           8\n",
      "2                     0        0       35           1.0           8\n",
      "3                     0        0       43           1.0           8\n",
      "4                     0        0       51           2.0           8\n",
      "...                 ...      ...      ...           ...         ...\n",
      "1823318              34       45    18454           0.0           9\n",
      "1823319              34       45    16188           0.0           9\n",
      "1823320              34       45    15757           0.0           9\n",
      "1823321              34       45    19648           0.0           9\n",
      "1823322              34       45      969           0.0           9\n",
      "\n",
      "[1823323 rows x 5 columns]\n"
     ]
    }
   ],
   "source": [
    "# Map number of weekend days to df\n",
    "df['n_weekends'] = df['date_block_num'].map(n_week)\n",
    "print(df)"
   ]
  },
  {
   "cell_type": "code",
   "execution_count": 50,
   "metadata": {},
   "outputs": [
    {
     "name": "stdout",
     "output_type": "stream",
     "text": [
      "                                           item_name  item_id  \\\n",
      "0          ! ВО ВЛАСТИ НАВАЖДЕНИЯ (ПЛАСТ.)         D        0   \n",
      "1  !ABBYY FineReader 12 Professional Edition Full...        1   \n",
      "2      ***В ЛУЧАХ СЛАВЫ   (UNV)                    D        2   \n",
      "3    ***ГОЛУБАЯ ВОЛНА  (Univ)                      D        3   \n",
      "4        ***КОРОБКА (СТЕКЛО)                       D        4   \n",
      "\n",
      "   item_category_id  \n",
      "0                40  \n",
      "1                76  \n",
      "2                40  \n",
      "3                40  \n",
      "4                40  \n"
     ]
    }
   ],
   "source": [
    "print(items.head())"
   ]
  },
  {
   "cell_type": "code",
   "execution_count": 51,
   "metadata": {},
   "outputs": [
    {
     "name": "stdout",
     "output_type": "stream",
     "text": [
      "item_id\n",
      "0        40\n",
      "1        76\n",
      "2        40\n",
      "3        40\n",
      "4        40\n",
      "         ..\n",
      "22165    31\n",
      "22166    54\n",
      "22167    49\n",
      "22168    62\n",
      "22169    69\n",
      "Name: item_category_id, Length: 22170, dtype: int64\n",
      "         date_block_num  shop_id  item_id  item_cnt_mon  n_weekends  \\\n",
      "0                     0        0       32           6.0           8   \n",
      "1                     0        0       33           3.0           8   \n",
      "2                     0        0       35           1.0           8   \n",
      "3                     0        0       43           1.0           8   \n",
      "4                     0        0       51           2.0           8   \n",
      "...                 ...      ...      ...           ...         ...   \n",
      "1823318              34       45    18454           0.0           9   \n",
      "1823319              34       45    16188           0.0           9   \n",
      "1823320              34       45    15757           0.0           9   \n",
      "1823321              34       45    19648           0.0           9   \n",
      "1823322              34       45      969           0.0           9   \n",
      "\n",
      "         item_category_id  \n",
      "0                      40  \n",
      "1                      37  \n",
      "2                      40  \n",
      "3                      40  \n",
      "4                      57  \n",
      "...                   ...  \n",
      "1823318                55  \n",
      "1823319                64  \n",
      "1823320                55  \n",
      "1823321                40  \n",
      "1823322                37  \n",
      "\n",
      "[1823323 rows x 6 columns]\n"
     ]
    }
   ],
   "source": [
    "# Merge item_category_id to df\n",
    "tmp = items.drop(['item_name'], axis = 1)\n",
    "t = tmp.groupby(['item_id'])['item_category_id'].sum()\n",
    "print(t)\n",
    "df['item_category_id'] = df['item_id'].map(t)\n",
    "print(df)"
   ]
  },
  {
   "cell_type": "code",
   "execution_count": 52,
   "metadata": {},
   "outputs": [
    {
     "name": "stdout",
     "output_type": "stream",
     "text": [
      "Index(['shop_id', 'city_id'], dtype='object')\n",
      "Index(['date_block_num', 'shop_id', 'item_id', 'item_cnt_mon', 'n_weekends',\n",
      "       'item_category_id'],\n",
      "      dtype='object')\n",
      "   date_block_num  shop_id  item_id  item_cnt_mon  n_weekends  \\\n",
      "0               0        0       32           6.0           8   \n",
      "1               0        0       33           3.0           8   \n",
      "2               0        0       35           1.0           8   \n",
      "3               0        0       43           1.0           8   \n",
      "4               0        0       51           2.0           8   \n",
      "\n",
      "   item_category_id  city_id  \n",
      "0                40        0  \n",
      "1                37        0  \n",
      "2                40        0  \n",
      "3                40        0  \n",
      "4                57        0  \n"
     ]
    }
   ],
   "source": [
    "# Merge city_id to df\n",
    "print(map_shops.columns)\n",
    "print(df.columns)\n",
    "df = pd.merge(df, map_shops, on = ['shop_id'], how ='left')\n",
    "#df.drop(columns = ['city_id_x', 'city_id_y'], inplace = True)\n",
    "print(df.head())"
   ]
  },
  {
   "cell_type": "code",
   "execution_count": 53,
   "metadata": {},
   "outputs": [
    {
     "name": "stdout",
     "output_type": "stream",
     "text": [
      "   date_block_num  shop_id  item_id  item_cnt_mon  n_weekends  \\\n",
      "0               0        0       32           6.0           8   \n",
      "1               0        0       33           3.0           8   \n",
      "2               0        0       35           1.0           8   \n",
      "3               0        0       43           1.0           8   \n",
      "4               0        0       51           2.0           8   \n",
      "\n",
      "   item_category_id  city_id  item_type  \n",
      "0                40        0         11  \n",
      "1                37        0         11  \n",
      "2                40        0         11  \n",
      "3                40        0         11  \n",
      "4                57        0         13  \n"
     ]
    }
   ],
   "source": [
    "# Merge item_type to df from item_name in items table\n",
    "df = pd.merge(df, map_item_categories, on = ['item_category_id'], how = 'left')\n",
    "print(df.head())"
   ]
  },
  {
   "cell_type": "code",
   "execution_count": 54,
   "metadata": {},
   "outputs": [],
   "source": [
    "# Add 'month' column\n",
    "df['month'] = df['date_block_num'].mod(12)"
   ]
  },
  {
   "cell_type": "code",
   "execution_count": 55,
   "metadata": {},
   "outputs": [
    {
     "data": {
      "text/html": [
       "<div>\n",
       "<style scoped>\n",
       "    .dataframe tbody tr th:only-of-type {\n",
       "        vertical-align: middle;\n",
       "    }\n",
       "\n",
       "    .dataframe tbody tr th {\n",
       "        vertical-align: top;\n",
       "    }\n",
       "\n",
       "    .dataframe thead th {\n",
       "        text-align: right;\n",
       "    }\n",
       "</style>\n",
       "<table border=\"1\" class=\"dataframe\">\n",
       "  <thead>\n",
       "    <tr style=\"text-align: right;\">\n",
       "      <th></th>\n",
       "      <th>date_block_num</th>\n",
       "      <th>shop_id</th>\n",
       "      <th>item_id</th>\n",
       "      <th>item_cnt_mon</th>\n",
       "      <th>n_weekends</th>\n",
       "      <th>item_category_id</th>\n",
       "      <th>city_id</th>\n",
       "      <th>item_type</th>\n",
       "      <th>month</th>\n",
       "      <th>year</th>\n",
       "    </tr>\n",
       "  </thead>\n",
       "  <tbody>\n",
       "    <tr>\n",
       "      <th>0</th>\n",
       "      <td>0</td>\n",
       "      <td>0</td>\n",
       "      <td>32</td>\n",
       "      <td>6.0</td>\n",
       "      <td>8</td>\n",
       "      <td>40</td>\n",
       "      <td>0</td>\n",
       "      <td>11</td>\n",
       "      <td>0</td>\n",
       "      <td>0</td>\n",
       "    </tr>\n",
       "    <tr>\n",
       "      <th>1</th>\n",
       "      <td>0</td>\n",
       "      <td>0</td>\n",
       "      <td>33</td>\n",
       "      <td>3.0</td>\n",
       "      <td>8</td>\n",
       "      <td>37</td>\n",
       "      <td>0</td>\n",
       "      <td>11</td>\n",
       "      <td>0</td>\n",
       "      <td>0</td>\n",
       "    </tr>\n",
       "    <tr>\n",
       "      <th>2</th>\n",
       "      <td>0</td>\n",
       "      <td>0</td>\n",
       "      <td>35</td>\n",
       "      <td>1.0</td>\n",
       "      <td>8</td>\n",
       "      <td>40</td>\n",
       "      <td>0</td>\n",
       "      <td>11</td>\n",
       "      <td>0</td>\n",
       "      <td>0</td>\n",
       "    </tr>\n",
       "    <tr>\n",
       "      <th>3</th>\n",
       "      <td>0</td>\n",
       "      <td>0</td>\n",
       "      <td>43</td>\n",
       "      <td>1.0</td>\n",
       "      <td>8</td>\n",
       "      <td>40</td>\n",
       "      <td>0</td>\n",
       "      <td>11</td>\n",
       "      <td>0</td>\n",
       "      <td>0</td>\n",
       "    </tr>\n",
       "    <tr>\n",
       "      <th>4</th>\n",
       "      <td>0</td>\n",
       "      <td>0</td>\n",
       "      <td>51</td>\n",
       "      <td>2.0</td>\n",
       "      <td>8</td>\n",
       "      <td>57</td>\n",
       "      <td>0</td>\n",
       "      <td>13</td>\n",
       "      <td>0</td>\n",
       "      <td>0</td>\n",
       "    </tr>\n",
       "    <tr>\n",
       "      <th>...</th>\n",
       "      <td>...</td>\n",
       "      <td>...</td>\n",
       "      <td>...</td>\n",
       "      <td>...</td>\n",
       "      <td>...</td>\n",
       "      <td>...</td>\n",
       "      <td>...</td>\n",
       "      <td>...</td>\n",
       "      <td>...</td>\n",
       "      <td>...</td>\n",
       "    </tr>\n",
       "    <tr>\n",
       "      <th>1823318</th>\n",
       "      <td>34</td>\n",
       "      <td>45</td>\n",
       "      <td>18454</td>\n",
       "      <td>0.0</td>\n",
       "      <td>9</td>\n",
       "      <td>55</td>\n",
       "      <td>21</td>\n",
       "      <td>13</td>\n",
       "      <td>10</td>\n",
       "      <td>2</td>\n",
       "    </tr>\n",
       "    <tr>\n",
       "      <th>1823319</th>\n",
       "      <td>34</td>\n",
       "      <td>45</td>\n",
       "      <td>16188</td>\n",
       "      <td>0.0</td>\n",
       "      <td>9</td>\n",
       "      <td>64</td>\n",
       "      <td>21</td>\n",
       "      <td>14</td>\n",
       "      <td>10</td>\n",
       "      <td>2</td>\n",
       "    </tr>\n",
       "    <tr>\n",
       "      <th>1823320</th>\n",
       "      <td>34</td>\n",
       "      <td>45</td>\n",
       "      <td>15757</td>\n",
       "      <td>0.0</td>\n",
       "      <td>9</td>\n",
       "      <td>55</td>\n",
       "      <td>21</td>\n",
       "      <td>13</td>\n",
       "      <td>10</td>\n",
       "      <td>2</td>\n",
       "    </tr>\n",
       "    <tr>\n",
       "      <th>1823321</th>\n",
       "      <td>34</td>\n",
       "      <td>45</td>\n",
       "      <td>19648</td>\n",
       "      <td>0.0</td>\n",
       "      <td>9</td>\n",
       "      <td>40</td>\n",
       "      <td>21</td>\n",
       "      <td>11</td>\n",
       "      <td>10</td>\n",
       "      <td>2</td>\n",
       "    </tr>\n",
       "    <tr>\n",
       "      <th>1823322</th>\n",
       "      <td>34</td>\n",
       "      <td>45</td>\n",
       "      <td>969</td>\n",
       "      <td>0.0</td>\n",
       "      <td>9</td>\n",
       "      <td>37</td>\n",
       "      <td>21</td>\n",
       "      <td>11</td>\n",
       "      <td>10</td>\n",
       "      <td>2</td>\n",
       "    </tr>\n",
       "  </tbody>\n",
       "</table>\n",
       "<p>1823323 rows × 10 columns</p>\n",
       "</div>"
      ],
      "text/plain": [
       "         date_block_num  shop_id  item_id  item_cnt_mon  n_weekends  \\\n",
       "0                     0        0       32           6.0           8   \n",
       "1                     0        0       33           3.0           8   \n",
       "2                     0        0       35           1.0           8   \n",
       "3                     0        0       43           1.0           8   \n",
       "4                     0        0       51           2.0           8   \n",
       "...                 ...      ...      ...           ...         ...   \n",
       "1823318              34       45    18454           0.0           9   \n",
       "1823319              34       45    16188           0.0           9   \n",
       "1823320              34       45    15757           0.0           9   \n",
       "1823321              34       45    19648           0.0           9   \n",
       "1823322              34       45      969           0.0           9   \n",
       "\n",
       "         item_category_id  city_id  item_type  month  year  \n",
       "0                      40        0         11      0     0  \n",
       "1                      37        0         11      0     0  \n",
       "2                      40        0         11      0     0  \n",
       "3                      40        0         11      0     0  \n",
       "4                      57        0         13      0     0  \n",
       "...                   ...      ...        ...    ...   ...  \n",
       "1823318                55       21         13     10     2  \n",
       "1823319                64       21         14     10     2  \n",
       "1823320                55       21         13     10     2  \n",
       "1823321                40       21         11     10     2  \n",
       "1823322                37       21         11     10     2  \n",
       "\n",
       "[1823323 rows x 10 columns]"
      ]
     },
     "execution_count": 55,
     "metadata": {},
     "output_type": "execute_result"
    }
   ],
   "source": [
    "# Add 'year' column\n",
    "df['year'] = df['date_block_num'].div(12).astype(int)\n",
    "df"
   ]
  },
  {
   "cell_type": "code",
   "execution_count": 56,
   "metadata": {},
   "outputs": [],
   "source": [
    "sales.to_csv('sales before_item_price_mean.csv')"
   ]
  },
  {
   "cell_type": "code",
   "execution_count": 57,
   "metadata": {},
   "outputs": [
    {
     "name": "stdout",
     "output_type": "stream",
     "text": [
      "item_id\n",
      "0          58.000000\n",
      "1        4490.000000\n",
      "2          58.000000\n",
      "3          79.000000\n",
      "4          58.000000\n",
      "            ...     \n",
      "22165      59.000000\n",
      "22166     150.000000\n",
      "22167     297.686490\n",
      "22168     798.916667\n",
      "22169    4349.000000\n",
      "Name: item_price, Length: 21807, dtype: float64\n",
      "   date_block_num  shop_id  item_id  item_cnt_mon  n_weekends  \\\n",
      "0               0        0       32           6.0           8   \n",
      "1               0        0       33           3.0           8   \n",
      "2               0        0       35           1.0           8   \n",
      "3               0        0       43           1.0           8   \n",
      "4               0        0       51           2.0           8   \n",
      "\n",
      "   item_category_id  city_id  item_type  month  year  item_avg_item_price  \n",
      "0                40        0         11      0     0           249.629240  \n",
      "1                37        0         11      0     0           252.831928  \n",
      "2                40        0         11      0     0           375.828056  \n",
      "3                40        0         11      0     0           167.222222  \n",
      "4                57        0         13      0     0           265.708333  \n"
     ]
    }
   ],
   "source": [
    "# 1. Create item_id vs. average item_price mapping table. 2. Merge (map) the table to training data\n",
    "col = ['item_id']\n",
    "t = sales.groupby(col)['item_price'].mean()\n",
    "print(t)\n",
    "df['item_avg_item_price'] = df['item_id'].map(t)\n",
    "print(df.head())"
   ]
  },
  {
   "cell_type": "code",
   "execution_count": 58,
   "metadata": {},
   "outputs": [
    {
     "name": "stdout",
     "output_type": "stream",
     "text": [
      "   date_block_num  shop_id  item_id  item_cnt_mon  n_weekends  \\\n",
      "0               0        0       32           6.0           8   \n",
      "1               0        0       33           3.0           8   \n",
      "2               0        0       35           1.0           8   \n",
      "3               0        0       43           1.0           8   \n",
      "4               0        0       51           2.0           8   \n",
      "\n",
      "   item_category_id  city_id  item_type  month  year  item_avg_item_price  \\\n",
      "0                40        0         11      0     0           249.629240   \n",
      "1                37        0         11      0     0           252.831928   \n",
      "2                40        0         11      0     0           375.828056   \n",
      "3                40        0         11      0     0           167.222222   \n",
      "4                57        0         13      0     0           265.708333   \n",
      "\n",
      "   date_item_avg_item_price  \n",
      "0                338.110349  \n",
      "1                488.517241  \n",
      "2                390.709091  \n",
      "3                234.500000  \n",
      "4                230.461538  \n"
     ]
    }
   ],
   "source": [
    "# 1. Create (date_block_num + item_id) vs. average item_price mapping table. 2. Merge the table to training data\n",
    "cols = ['date_block_num', 'item_id']\n",
    "t = sales.groupby(cols)['item_price'].mean().to_frame(name = 'date_item_avg_item_price').reset_index()\n",
    "df = pd.merge(df, t, on = cols, how = 'left')\n",
    "print(df.head())"
   ]
  },
  {
   "cell_type": "code",
   "execution_count": 59,
   "metadata": {},
   "outputs": [
    {
     "data": {
      "text/html": [
       "<div>\n",
       "<style scoped>\n",
       "    .dataframe tbody tr th:only-of-type {\n",
       "        vertical-align: middle;\n",
       "    }\n",
       "\n",
       "    .dataframe tbody tr th {\n",
       "        vertical-align: top;\n",
       "    }\n",
       "\n",
       "    .dataframe thead th {\n",
       "        text-align: right;\n",
       "    }\n",
       "</style>\n",
       "<table border=\"1\" class=\"dataframe\">\n",
       "  <thead>\n",
       "    <tr style=\"text-align: right;\">\n",
       "      <th></th>\n",
       "      <th>date_block_num</th>\n",
       "      <th>shop_id</th>\n",
       "      <th>item_id</th>\n",
       "      <th>item_cnt_mon</th>\n",
       "      <th>n_weekends</th>\n",
       "      <th>item_category_id</th>\n",
       "      <th>city_id</th>\n",
       "      <th>item_type</th>\n",
       "      <th>month</th>\n",
       "      <th>year</th>\n",
       "      <th>item_avg_item_price</th>\n",
       "      <th>date_item_avg_item_price</th>\n",
       "    </tr>\n",
       "  </thead>\n",
       "  <tbody>\n",
       "    <tr>\n",
       "      <th>63224</th>\n",
       "      <td>1</td>\n",
       "      <td>0</td>\n",
       "      <td>30</td>\n",
       "      <td>20.0</td>\n",
       "      <td>8</td>\n",
       "      <td>40</td>\n",
       "      <td>0</td>\n",
       "      <td>11</td>\n",
       "      <td>1</td>\n",
       "      <td>0</td>\n",
       "      <td>323.679206</td>\n",
       "      <td>383.921877</td>\n",
       "    </tr>\n",
       "    <tr>\n",
       "      <th>65660</th>\n",
       "      <td>1</td>\n",
       "      <td>1</td>\n",
       "      <td>30</td>\n",
       "      <td>10.0</td>\n",
       "      <td>8</td>\n",
       "      <td>40</td>\n",
       "      <td>0</td>\n",
       "      <td>11</td>\n",
       "      <td>1</td>\n",
       "      <td>0</td>\n",
       "      <td>323.679206</td>\n",
       "      <td>383.921877</td>\n",
       "    </tr>\n",
       "    <tr>\n",
       "      <th>67731</th>\n",
       "      <td>1</td>\n",
       "      <td>3</td>\n",
       "      <td>30</td>\n",
       "      <td>4.0</td>\n",
       "      <td>8</td>\n",
       "      <td>40</td>\n",
       "      <td>2</td>\n",
       "      <td>11</td>\n",
       "      <td>1</td>\n",
       "      <td>0</td>\n",
       "      <td>323.679206</td>\n",
       "      <td>383.921877</td>\n",
       "    </tr>\n",
       "    <tr>\n",
       "      <th>68281</th>\n",
       "      <td>1</td>\n",
       "      <td>4</td>\n",
       "      <td>30</td>\n",
       "      <td>7.0</td>\n",
       "      <td>8</td>\n",
       "      <td>40</td>\n",
       "      <td>3</td>\n",
       "      <td>11</td>\n",
       "      <td>1</td>\n",
       "      <td>0</td>\n",
       "      <td>323.679206</td>\n",
       "      <td>383.921877</td>\n",
       "    </tr>\n",
       "    <tr>\n",
       "      <th>69330</th>\n",
       "      <td>1</td>\n",
       "      <td>5</td>\n",
       "      <td>30</td>\n",
       "      <td>5.0</td>\n",
       "      <td>8</td>\n",
       "      <td>40</td>\n",
       "      <td>4</td>\n",
       "      <td>11</td>\n",
       "      <td>1</td>\n",
       "      <td>0</td>\n",
       "      <td>323.679206</td>\n",
       "      <td>383.921877</td>\n",
       "    </tr>\n",
       "    <tr>\n",
       "      <th>...</th>\n",
       "      <td>...</td>\n",
       "      <td>...</td>\n",
       "      <td>...</td>\n",
       "      <td>...</td>\n",
       "      <td>...</td>\n",
       "      <td>...</td>\n",
       "      <td>...</td>\n",
       "      <td>...</td>\n",
       "      <td>...</td>\n",
       "      <td>...</td>\n",
       "      <td>...</td>\n",
       "      <td>...</td>\n",
       "    </tr>\n",
       "    <tr>\n",
       "      <th>1800410</th>\n",
       "      <td>34</td>\n",
       "      <td>46</td>\n",
       "      <td>30</td>\n",
       "      <td>0.0</td>\n",
       "      <td>9</td>\n",
       "      <td>40</td>\n",
       "      <td>22</td>\n",
       "      <td>11</td>\n",
       "      <td>10</td>\n",
       "      <td>2</td>\n",
       "      <td>323.679206</td>\n",
       "      <td>NaN</td>\n",
       "    </tr>\n",
       "    <tr>\n",
       "      <th>1805510</th>\n",
       "      <td>34</td>\n",
       "      <td>41</td>\n",
       "      <td>30</td>\n",
       "      <td>0.0</td>\n",
       "      <td>9</td>\n",
       "      <td>40</td>\n",
       "      <td>19</td>\n",
       "      <td>11</td>\n",
       "      <td>10</td>\n",
       "      <td>2</td>\n",
       "      <td>323.679206</td>\n",
       "      <td>NaN</td>\n",
       "    </tr>\n",
       "    <tr>\n",
       "      <th>1810610</th>\n",
       "      <td>34</td>\n",
       "      <td>44</td>\n",
       "      <td>30</td>\n",
       "      <td>0.0</td>\n",
       "      <td>9</td>\n",
       "      <td>40</td>\n",
       "      <td>21</td>\n",
       "      <td>11</td>\n",
       "      <td>10</td>\n",
       "      <td>2</td>\n",
       "      <td>323.679206</td>\n",
       "      <td>NaN</td>\n",
       "    </tr>\n",
       "    <tr>\n",
       "      <th>1815710</th>\n",
       "      <td>34</td>\n",
       "      <td>39</td>\n",
       "      <td>30</td>\n",
       "      <td>0.0</td>\n",
       "      <td>9</td>\n",
       "      <td>40</td>\n",
       "      <td>19</td>\n",
       "      <td>11</td>\n",
       "      <td>10</td>\n",
       "      <td>2</td>\n",
       "      <td>323.679206</td>\n",
       "      <td>NaN</td>\n",
       "    </tr>\n",
       "    <tr>\n",
       "      <th>1820810</th>\n",
       "      <td>34</td>\n",
       "      <td>45</td>\n",
       "      <td>30</td>\n",
       "      <td>0.0</td>\n",
       "      <td>9</td>\n",
       "      <td>40</td>\n",
       "      <td>21</td>\n",
       "      <td>11</td>\n",
       "      <td>10</td>\n",
       "      <td>2</td>\n",
       "      <td>323.679206</td>\n",
       "      <td>NaN</td>\n",
       "    </tr>\n",
       "  </tbody>\n",
       "</table>\n",
       "<p>524 rows × 12 columns</p>\n",
       "</div>"
      ],
      "text/plain": [
       "         date_block_num  shop_id  item_id  item_cnt_mon  n_weekends  \\\n",
       "63224                 1        0       30          20.0           8   \n",
       "65660                 1        1       30          10.0           8   \n",
       "67731                 1        3       30           4.0           8   \n",
       "68281                 1        4       30           7.0           8   \n",
       "69330                 1        5       30           5.0           8   \n",
       "...                 ...      ...      ...           ...         ...   \n",
       "1800410              34       46       30           0.0           9   \n",
       "1805510              34       41       30           0.0           9   \n",
       "1810610              34       44       30           0.0           9   \n",
       "1815710              34       39       30           0.0           9   \n",
       "1820810              34       45       30           0.0           9   \n",
       "\n",
       "         item_category_id  city_id  item_type  month  year  \\\n",
       "63224                  40        0         11      1     0   \n",
       "65660                  40        0         11      1     0   \n",
       "67731                  40        2         11      1     0   \n",
       "68281                  40        3         11      1     0   \n",
       "69330                  40        4         11      1     0   \n",
       "...                   ...      ...        ...    ...   ...   \n",
       "1800410                40       22         11     10     2   \n",
       "1805510                40       19         11     10     2   \n",
       "1810610                40       21         11     10     2   \n",
       "1815710                40       19         11     10     2   \n",
       "1820810                40       21         11     10     2   \n",
       "\n",
       "         item_avg_item_price  date_item_avg_item_price  \n",
       "63224             323.679206                383.921877  \n",
       "65660             323.679206                383.921877  \n",
       "67731             323.679206                383.921877  \n",
       "68281             323.679206                383.921877  \n",
       "69330             323.679206                383.921877  \n",
       "...                      ...                       ...  \n",
       "1800410           323.679206                       NaN  \n",
       "1805510           323.679206                       NaN  \n",
       "1810610           323.679206                       NaN  \n",
       "1815710           323.679206                       NaN  \n",
       "1820810           323.679206                       NaN  \n",
       "\n",
       "[524 rows x 12 columns]"
      ]
     },
     "execution_count": 59,
     "metadata": {},
     "output_type": "execute_result"
    }
   ],
   "source": [
    "df.loc[df['item_id'] == 30, :]"
   ]
  },
  {
   "cell_type": "code",
   "execution_count": 60,
   "metadata": {},
   "outputs": [
    {
     "name": "stdout",
     "output_type": "stream",
     "text": [
      "df:\n",
      "Index(['date_block_num', 'shop_id', 'item_id', 'item_cnt_mon', 'n_weekends',\n",
      "       'item_category_id', 'city_id', 'item_type', 'month', 'year',\n",
      "       'item_avg_item_price', 'date_item_avg_item_price'],\n",
      "      dtype='object')\n",
      "(1823323, 12)\n"
     ]
    }
   ],
   "source": [
    "print('df:')\n",
    "print(df.columns)\n",
    "print(df.shape)"
   ]
  },
  {
   "cell_type": "code",
   "execution_count": 61,
   "metadata": {
    "scrolled": false
   },
   "outputs": [
    {
     "name": "stdout",
     "output_type": "stream",
     "text": [
      "shifted:\n",
      "Index(['date_block_num', 'shop_id', 'item_id', 'item_cnt_mon_lag_1'], dtype='object')\n",
      "(1823323, 4)\n",
      "shifted:\n",
      "Index(['date_block_num', 'shop_id', 'item_id', 'item_cnt_mon_lag_3'], dtype='object')\n",
      "(1823323, 4)\n",
      "shifted:\n",
      "Index(['date_block_num', 'shop_id', 'item_id', 'item_cnt_mon_lag_6'], dtype='object')\n",
      "(1823323, 4)\n",
      "shifted:\n",
      "Index(['date_block_num', 'shop_id', 'item_id', 'item_cnt_mon_lag_12'], dtype='object')\n",
      "(1823323, 4)\n",
      "shifted:\n",
      "Index(['date_block_num', 'shop_id', 'item_id',\n",
      "       'date_item_avg_item_price_lag_1'],\n",
      "      dtype='object')\n",
      "(1823323, 4)\n",
      "shifted:\n",
      "Index(['date_block_num', 'shop_id', 'item_id',\n",
      "       'date_item_avg_item_price_lag_3'],\n",
      "      dtype='object')\n",
      "(1823323, 4)\n",
      "shifted:\n",
      "Index(['date_block_num', 'shop_id', 'item_id',\n",
      "       'date_item_avg_item_price_lag_6'],\n",
      "      dtype='object')\n",
      "(1823323, 4)\n",
      "shifted:\n",
      "Index(['date_block_num', 'shop_id', 'item_id',\n",
      "       'date_item_avg_item_price_lag_12'],\n",
      "      dtype='object')\n",
      "(1823323, 4)\n",
      "        date_block_num  shop_id  item_id  item_cnt_mon  n_weekends  \\\n",
      "63224                1        0       30          20.0           8   \n",
      "63225                1        0       31          11.0           8   \n",
      "63226                1        0       32          10.0           8   \n",
      "63227                1        0       33           3.0           8   \n",
      "63228                1        0       35          14.0           8   \n",
      "...                ...      ...      ...           ...         ...   \n",
      "123154               1       59    22020           2.0           8   \n",
      "123155               1       59    22024           1.0           8   \n",
      "123156               1       59    22087           1.0           8   \n",
      "123157               1       59    22130           2.0           8   \n",
      "123158               1       59    22134           1.0           8   \n",
      "\n",
      "        item_category_id  city_id  item_type  month  year  \\\n",
      "63224                 40        0         11      1     0   \n",
      "63225                 37        0         11      1     0   \n",
      "63226                 40        0         11      1     0   \n",
      "63227                 37        0         11      1     0   \n",
      "63228                 40        0         11      1     0   \n",
      "...                  ...      ...        ...    ...   ...   \n",
      "123154                40       31         11      1     0   \n",
      "123155                40       31         11      1     0   \n",
      "123156                83       31         20      1     0   \n",
      "123157                40       31         11      1     0   \n",
      "123158                40       31         11      1     0   \n",
      "\n",
      "        item_avg_item_price  date_item_avg_item_price  item_cnt_mon_lag_1  \\\n",
      "63224            323.679206                383.921877                 NaN   \n",
      "63225            578.630005                666.991044                 NaN   \n",
      "63226            249.629240                337.771930                 6.0   \n",
      "63227            252.831928                484.170732                 3.0   \n",
      "63228            375.828056                367.396040                 1.0   \n",
      "...                     ...                       ...                 ...   \n",
      "123154           315.734806                390.817476                 NaN   \n",
      "123155           141.259259                149.000000                 NaN   \n",
      "123156            88.036466                 69.631481                 9.0   \n",
      "123157           335.496512                330.714286                 2.0   \n",
      "123158           377.728164                384.943396                 2.0   \n",
      "\n",
      "        item_cnt_mon_lag_3  item_cnt_mon_lag_6  item_cnt_mon_lag_12  \\\n",
      "63224                  NaN                 NaN                  NaN   \n",
      "63225                  NaN                 NaN                  NaN   \n",
      "63226                  NaN                 NaN                  NaN   \n",
      "63227                  NaN                 NaN                  NaN   \n",
      "63228                  NaN                 NaN                  NaN   \n",
      "...                    ...                 ...                  ...   \n",
      "123154                 NaN                 NaN                  NaN   \n",
      "123155                 NaN                 NaN                  NaN   \n",
      "123156                 NaN                 NaN                  NaN   \n",
      "123157                 NaN                 NaN                  NaN   \n",
      "123158                 NaN                 NaN                  NaN   \n",
      "\n",
      "        date_item_avg_item_price_lag_1  date_item_avg_item_price_lag_3  \\\n",
      "63224                              NaN                             NaN   \n",
      "63225                              NaN                             NaN   \n",
      "63226                       338.110349                             NaN   \n",
      "63227                       488.517241                             NaN   \n",
      "63228                       390.709091                             NaN   \n",
      "...                                ...                             ...   \n",
      "123154                             NaN                             NaN   \n",
      "123155                             NaN                             NaN   \n",
      "123156                       74.517460                             NaN   \n",
      "123157                      337.314103                             NaN   \n",
      "123158                      375.087340                             NaN   \n",
      "\n",
      "        date_item_avg_item_price_lag_6  date_item_avg_item_price_lag_12  \n",
      "63224                              NaN                              NaN  \n",
      "63225                              NaN                              NaN  \n",
      "63226                              NaN                              NaN  \n",
      "63227                              NaN                              NaN  \n",
      "63228                              NaN                              NaN  \n",
      "...                                ...                              ...  \n",
      "123154                             NaN                              NaN  \n",
      "123155                             NaN                              NaN  \n",
      "123156                             NaN                              NaN  \n",
      "123157                             NaN                              NaN  \n",
      "123158                             NaN                              NaN  \n",
      "\n",
      "[59935 rows x 20 columns]\n",
      "(1823323, 20)\n"
     ]
    }
   ],
   "source": [
    "# Create lag features with lags 1, 3, 6, and 12 months\n",
    "df = feature_lags(df, [1,3, 6, 12], ['item_cnt_mon', 'date_item_avg_item_price'])\n",
    "print(df.loc[df['date_block_num'] == 1, :])\n",
    "print(df.shape)"
   ]
  },
  {
   "cell_type": "code",
   "execution_count": 62,
   "metadata": {
    "scrolled": true
   },
   "outputs": [
    {
     "name": "stdout",
     "output_type": "stream",
     "text": [
      "        date_block_num  shop_id  item_id  item_cnt_mon  n_weekends  \\\n",
      "63224                1        0       30          20.0           8   \n",
      "63225                1        0       31          11.0           8   \n",
      "63226                1        0       32          10.0           8   \n",
      "63227                1        0       33           3.0           8   \n",
      "63228                1        0       35          14.0           8   \n",
      "...                ...      ...      ...           ...         ...   \n",
      "123154               1       59    22020           2.0           8   \n",
      "123155               1       59    22024           1.0           8   \n",
      "123156               1       59    22087           1.0           8   \n",
      "123157               1       59    22130           2.0           8   \n",
      "123158               1       59    22134           1.0           8   \n",
      "\n",
      "        item_category_id  city_id  item_type  month  year  \\\n",
      "63224                 40        0         11      1     0   \n",
      "63225                 37        0         11      1     0   \n",
      "63226                 40        0         11      1     0   \n",
      "63227                 37        0         11      1     0   \n",
      "63228                 40        0         11      1     0   \n",
      "...                  ...      ...        ...    ...   ...   \n",
      "123154                40       31         11      1     0   \n",
      "123155                40       31         11      1     0   \n",
      "123156                83       31         20      1     0   \n",
      "123157                40       31         11      1     0   \n",
      "123158                40       31         11      1     0   \n",
      "\n",
      "        item_avg_item_price  date_item_avg_item_price  item_cnt_mon_lag_1  \\\n",
      "63224            323.679206                383.921877                 NaN   \n",
      "63225            578.630005                666.991044                 NaN   \n",
      "63226            249.629240                337.771930                 6.0   \n",
      "63227            252.831928                484.170732                 3.0   \n",
      "63228            375.828056                367.396040                 1.0   \n",
      "...                     ...                       ...                 ...   \n",
      "123154           315.734806                390.817476                 NaN   \n",
      "123155           141.259259                149.000000                 NaN   \n",
      "123156            88.036466                 69.631481                 9.0   \n",
      "123157           335.496512                330.714286                 2.0   \n",
      "123158           377.728164                384.943396                 2.0   \n",
      "\n",
      "        item_cnt_mon_lag_3  item_cnt_mon_lag_6  item_cnt_mon_lag_12  \\\n",
      "63224                  NaN                 NaN                  NaN   \n",
      "63225                  NaN                 NaN                  NaN   \n",
      "63226                  NaN                 NaN                  NaN   \n",
      "63227                  NaN                 NaN                  NaN   \n",
      "63228                  NaN                 NaN                  NaN   \n",
      "...                    ...                 ...                  ...   \n",
      "123154                 NaN                 NaN                  NaN   \n",
      "123155                 NaN                 NaN                  NaN   \n",
      "123156                 NaN                 NaN                  NaN   \n",
      "123157                 NaN                 NaN                  NaN   \n",
      "123158                 NaN                 NaN                  NaN   \n",
      "\n",
      "        date_item_avg_item_price_lag_1  date_item_avg_item_price_lag_3  \\\n",
      "63224                              NaN                             NaN   \n",
      "63225                              NaN                             NaN   \n",
      "63226                       338.110349                             NaN   \n",
      "63227                       488.517241                             NaN   \n",
      "63228                       390.709091                             NaN   \n",
      "...                                ...                             ...   \n",
      "123154                             NaN                             NaN   \n",
      "123155                             NaN                             NaN   \n",
      "123156                       74.517460                             NaN   \n",
      "123157                      337.314103                             NaN   \n",
      "123158                      375.087340                             NaN   \n",
      "\n",
      "        date_item_avg_item_price_lag_6  date_item_avg_item_price_lag_12  \n",
      "63224                              NaN                              NaN  \n",
      "63225                              NaN                              NaN  \n",
      "63226                              NaN                              NaN  \n",
      "63227                              NaN                              NaN  \n",
      "63228                              NaN                              NaN  \n",
      "...                                ...                              ...  \n",
      "123154                             NaN                              NaN  \n",
      "123155                             NaN                              NaN  \n",
      "123156                             NaN                              NaN  \n",
      "123157                             NaN                              NaN  \n",
      "123158                             NaN                              NaN  \n",
      "\n",
      "[59935 rows x 20 columns]\n",
      "(1823323, 20)\n"
     ]
    }
   ],
   "source": [
    "print(df.loc[df['date_block_num'] == 1, :])\n",
    "print(df.shape)"
   ]
  },
  {
   "cell_type": "code",
   "execution_count": 63,
   "metadata": {},
   "outputs": [
    {
     "name": "stdout",
     "output_type": "stream",
     "text": [
      "date_block_num                       int64\n",
      "shop_id                              int64\n",
      "item_id                              int64\n",
      "item_cnt_mon                       float64\n",
      "n_weekends                           int64\n",
      "item_category_id                     int64\n",
      "city_id                              int32\n",
      "item_type                            int32\n",
      "month                                int64\n",
      "year                                 int32\n",
      "item_avg_item_price                float64\n",
      "date_item_avg_item_price           float64\n",
      "item_cnt_mon_lag_1                 float64\n",
      "item_cnt_mon_lag_3                 float64\n",
      "item_cnt_mon_lag_6                 float64\n",
      "item_cnt_mon_lag_12                float64\n",
      "date_item_avg_item_price_lag_1     float64\n",
      "date_item_avg_item_price_lag_3     float64\n",
      "date_item_avg_item_price_lag_6     float64\n",
      "date_item_avg_item_price_lag_12    float64\n",
      "dtype: object\n"
     ]
    }
   ],
   "source": [
    "print(df.dtypes)"
   ]
  },
  {
   "cell_type": "code",
   "execution_count": 64,
   "metadata": {},
   "outputs": [],
   "source": [
    "df.to_csv('cleaned_data.csv')"
   ]
  },
  {
   "cell_type": "code",
   "execution_count": 65,
   "metadata": {
    "id": "chbHxEq-OIYX"
   },
   "outputs": [],
   "source": [
    "# TB add revenue feature\n",
    "#df['revenue'] = df['item_price']*df['item_cnt_day']"
   ]
  },
  {
   "cell_type": "code",
   "execution_count": 66,
   "metadata": {},
   "outputs": [],
   "source": [
    "df = df[df['date_block_num'] > 11]"
   ]
  },
  {
   "cell_type": "code",
   "execution_count": 67,
   "metadata": {},
   "outputs": [
    {
     "name": "stdout",
     "output_type": "stream",
     "text": [
      "(1135599, 20)\n"
     ]
    }
   ],
   "source": [
    "print(df.shape)"
   ]
  },
  {
   "cell_type": "code",
   "execution_count": 68,
   "metadata": {},
   "outputs": [],
   "source": [
    "X_train = df[df['date_block_num'] < 33]\n",
    "y_train = X_train.item_cnt_mon\n",
    "X_train = X_train.drop(['item_cnt_mon'], axis = 1)"
   ]
  },
  {
   "cell_type": "code",
   "execution_count": 69,
   "metadata": {},
   "outputs": [
    {
     "name": "stdout",
     "output_type": "stream",
     "text": [
      "(889868, 19)\n",
      "(889868,)\n"
     ]
    }
   ],
   "source": [
    "print(X_train.shape)\n",
    "print(y_train.shape)"
   ]
  },
  {
   "cell_type": "code",
   "execution_count": 70,
   "metadata": {},
   "outputs": [],
   "source": [
    "X_cv = df[df['date_block_num'] == 33]\n",
    "y_cv = X_cv.item_cnt_mon\n",
    "X_cv = X_cv.drop(['item_cnt_mon'], axis = 1)"
   ]
  },
  {
   "cell_type": "code",
   "execution_count": 71,
   "metadata": {},
   "outputs": [
    {
     "name": "stdout",
     "output_type": "stream",
     "text": [
      "(31531, 19)\n",
      "(31531,)\n"
     ]
    }
   ],
   "source": [
    "print(X_cv.shape)\n",
    "print(y_cv.shape)"
   ]
  },
  {
   "cell_type": "code",
   "execution_count": 72,
   "metadata": {},
   "outputs": [],
   "source": [
    "X_test = df[df['date_block_num'] == 34]\n",
    "y_test = X_test.item_cnt_mon\n",
    "X_test = X_test.drop(['item_cnt_mon'], axis = 1)"
   ]
  },
  {
   "cell_type": "code",
   "execution_count": 73,
   "metadata": {},
   "outputs": [
    {
     "name": "stdout",
     "output_type": "stream",
     "text": [
      "(214200, 19)\n",
      "(214200,)\n"
     ]
    }
   ],
   "source": [
    "print(X_test.shape)\n",
    "print(y_test.shape)"
   ]
  },
  {
   "cell_type": "code",
   "execution_count": 74,
   "metadata": {},
   "outputs": [
    {
     "name": "stdout",
     "output_type": "stream",
     "text": [
      "[0]\tvalidation_0-rmse:2.77996\tvalidation_1-rmse:2.78967\n",
      "[10]\tvalidation_0-rmse:2.06942\tvalidation_1-rmse:2.24284\n",
      "[20]\tvalidation_0-rmse:1.93026\tvalidation_1-rmse:2.13996\n",
      "[30]\tvalidation_0-rmse:1.88796\tvalidation_1-rmse:2.11733\n",
      "[40]\tvalidation_0-rmse:1.86670\tvalidation_1-rmse:2.08774\n",
      "[50]\tvalidation_0-rmse:1.84815\tvalidation_1-rmse:2.07015\n",
      "[60]\tvalidation_0-rmse:1.83042\tvalidation_1-rmse:2.06015\n",
      "[70]\tvalidation_0-rmse:1.81722\tvalidation_1-rmse:2.04937\n",
      "[80]\tvalidation_0-rmse:1.80649\tvalidation_1-rmse:2.04597\n",
      "[90]\tvalidation_0-rmse:1.79547\tvalidation_1-rmse:2.02449\n",
      "[100]\tvalidation_0-rmse:1.78422\tvalidation_1-rmse:2.01891\n",
      "[110]\tvalidation_0-rmse:1.77740\tvalidation_1-rmse:2.01191\n",
      "[120]\tvalidation_0-rmse:1.77088\tvalidation_1-rmse:2.00035\n",
      "[130]\tvalidation_0-rmse:1.76256\tvalidation_1-rmse:1.98652\n",
      "[140]\tvalidation_0-rmse:1.75390\tvalidation_1-rmse:1.98081\n",
      "[150]\tvalidation_0-rmse:1.74923\tvalidation_1-rmse:1.97789\n",
      "[160]\tvalidation_0-rmse:1.74242\tvalidation_1-rmse:1.97325\n",
      "[170]\tvalidation_0-rmse:1.73498\tvalidation_1-rmse:1.97023\n",
      "[180]\tvalidation_0-rmse:1.72867\tvalidation_1-rmse:1.96456\n",
      "[190]\tvalidation_0-rmse:1.72291\tvalidation_1-rmse:1.96151\n",
      "[200]\tvalidation_0-rmse:1.71684\tvalidation_1-rmse:1.95611\n",
      "[210]\tvalidation_0-rmse:1.71098\tvalidation_1-rmse:1.95261\n",
      "[220]\tvalidation_0-rmse:1.70600\tvalidation_1-rmse:1.94882\n",
      "[230]\tvalidation_0-rmse:1.70138\tvalidation_1-rmse:1.94621\n",
      "[240]\tvalidation_0-rmse:1.69813\tvalidation_1-rmse:1.94488\n",
      "[250]\tvalidation_0-rmse:1.69448\tvalidation_1-rmse:1.94341\n",
      "[260]\tvalidation_0-rmse:1.69130\tvalidation_1-rmse:1.94176\n",
      "[270]\tvalidation_0-rmse:1.68700\tvalidation_1-rmse:1.93628\n",
      "[280]\tvalidation_0-rmse:1.68426\tvalidation_1-rmse:1.93627\n",
      "[290]\tvalidation_0-rmse:1.67990\tvalidation_1-rmse:1.93014\n",
      "[300]\tvalidation_0-rmse:1.67512\tvalidation_1-rmse:1.92623\n",
      "[310]\tvalidation_0-rmse:1.67230\tvalidation_1-rmse:1.92512\n",
      "[320]\tvalidation_0-rmse:1.66745\tvalidation_1-rmse:1.92298\n",
      "[330]\tvalidation_0-rmse:1.66416\tvalidation_1-rmse:1.92283\n",
      "[340]\tvalidation_0-rmse:1.66174\tvalidation_1-rmse:1.91987\n",
      "[350]\tvalidation_0-rmse:1.65893\tvalidation_1-rmse:1.91929\n",
      "[360]\tvalidation_0-rmse:1.65552\tvalidation_1-rmse:1.91662\n",
      "[370]\tvalidation_0-rmse:1.65141\tvalidation_1-rmse:1.91264\n",
      "[380]\tvalidation_0-rmse:1.64703\tvalidation_1-rmse:1.91232\n",
      "[390]\tvalidation_0-rmse:1.64310\tvalidation_1-rmse:1.90983\n",
      "[400]\tvalidation_0-rmse:1.63942\tvalidation_1-rmse:1.90517\n",
      "[410]\tvalidation_0-rmse:1.63666\tvalidation_1-rmse:1.90487\n",
      "[420]\tvalidation_0-rmse:1.63366\tvalidation_1-rmse:1.90460\n",
      "[430]\tvalidation_0-rmse:1.63057\tvalidation_1-rmse:1.90449\n",
      "[440]\tvalidation_0-rmse:1.62772\tvalidation_1-rmse:1.89976\n",
      "[450]\tvalidation_0-rmse:1.62581\tvalidation_1-rmse:1.89939\n",
      "[460]\tvalidation_0-rmse:1.62250\tvalidation_1-rmse:1.89947\n",
      "[470]\tvalidation_0-rmse:1.62112\tvalidation_1-rmse:1.89981\n",
      "[480]\tvalidation_0-rmse:1.61943\tvalidation_1-rmse:1.89863\n",
      "[490]\tvalidation_0-rmse:1.61717\tvalidation_1-rmse:1.89463\n",
      "[500]\tvalidation_0-rmse:1.61409\tvalidation_1-rmse:1.89516\n",
      "[510]\tvalidation_0-rmse:1.61255\tvalidation_1-rmse:1.89424\n",
      "[520]\tvalidation_0-rmse:1.61112\tvalidation_1-rmse:1.89334\n",
      "[530]\tvalidation_0-rmse:1.60928\tvalidation_1-rmse:1.89116\n",
      "[540]\tvalidation_0-rmse:1.60770\tvalidation_1-rmse:1.89173\n",
      "[550]\tvalidation_0-rmse:1.60608\tvalidation_1-rmse:1.89095\n",
      "[560]\tvalidation_0-rmse:1.60492\tvalidation_1-rmse:1.89029\n",
      "[570]\tvalidation_0-rmse:1.60263\tvalidation_1-rmse:1.88970\n",
      "[580]\tvalidation_0-rmse:1.59967\tvalidation_1-rmse:1.88854\n",
      "[590]\tvalidation_0-rmse:1.59782\tvalidation_1-rmse:1.88875\n",
      "[600]\tvalidation_0-rmse:1.59597\tvalidation_1-rmse:1.88793\n",
      "[610]\tvalidation_0-rmse:1.59352\tvalidation_1-rmse:1.88698\n",
      "[620]\tvalidation_0-rmse:1.59206\tvalidation_1-rmse:1.88721\n",
      "[630]\tvalidation_0-rmse:1.59043\tvalidation_1-rmse:1.88677\n",
      "[640]\tvalidation_0-rmse:1.58834\tvalidation_1-rmse:1.88595\n",
      "[650]\tvalidation_0-rmse:1.58724\tvalidation_1-rmse:1.88595\n",
      "[660]\tvalidation_0-rmse:1.58555\tvalidation_1-rmse:1.88603\n",
      "[670]\tvalidation_0-rmse:1.58353\tvalidation_1-rmse:1.88436\n",
      "[680]\tvalidation_0-rmse:1.58153\tvalidation_1-rmse:1.88472\n",
      "[690]\tvalidation_0-rmse:1.58034\tvalidation_1-rmse:1.88438\n",
      "[700]\tvalidation_0-rmse:1.57918\tvalidation_1-rmse:1.88508\n",
      "[710]\tvalidation_0-rmse:1.57814\tvalidation_1-rmse:1.88550\n",
      "[713]\tvalidation_0-rmse:1.57763\tvalidation_1-rmse:1.88579\n"
     ]
    },
    {
     "data": {
      "text/plain": [
       "XGBRegressor(base_score=0.5, booster='gbtree', colsample_bylevel=1,\n",
       "             colsample_bynode=1, colsample_bytree=0.8, eta=0.1, gamma=0.005,\n",
       "             gpu_id=-1, importance_type='gain', interaction_constraints='',\n",
       "             learning_rate=0.100000001, max_delta_step=0, max_depth=7,\n",
       "             min_child_weight=300, missing=nan, monotone_constraints='()',\n",
       "             n_estimators=1000, n_jobs=8, num_parallel_tree=1, random_state=42,\n",
       "             reg_alpha=0, reg_lambda=1, scale_pos_weight=1, seed=42,\n",
       "             subsample=0.8, tree_method='exact', validate_parameters=1,\n",
       "             verbosity=None)"
      ]
     },
     "execution_count": 74,
     "metadata": {},
     "output_type": "execute_result"
    }
   ],
   "source": [
    "model = xgb.XGBRegressor(\n",
    "    max_depth=7,\n",
    "    n_estimators=1000,\n",
    "    min_child_weight=300,   \n",
    "    colsample_bytree=0.8, \n",
    "    subsample=0.8, \n",
    "    gamma = 0.005,\n",
    "    eta=0.1,    \n",
    "    seed=42)\n",
    "\n",
    "model.fit(\n",
    "    X_train, \n",
    "    y_train, \n",
    "    eval_metric=\"rmse\", \n",
    "    eval_set=[(X_train, y_train), (X_cv, y_cv)], \n",
    "    verbose=10, \n",
    "    early_stopping_rounds = 40,\n",
    "    )"
   ]
  }
 ],
 "metadata": {
  "colab": {
   "collapsed_sections": [],
   "name": "Predict_future_sales_colab_2021.ipynb",
   "provenance": []
  },
  "kernelspec": {
   "display_name": "Python 3",
   "language": "python",
   "name": "python3"
  },
  "language_info": {
   "codemirror_mode": {
    "name": "ipython",
    "version": 3
   },
   "file_extension": ".py",
   "mimetype": "text/x-python",
   "name": "python",
   "nbconvert_exporter": "python",
   "pygments_lexer": "ipython3",
   "version": "3.8.5"
  }
 },
 "nbformat": 4,
 "nbformat_minor": 1
}
